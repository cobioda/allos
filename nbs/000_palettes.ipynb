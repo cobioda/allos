{
 "cells": [
  {
   "cell_type": "markdown",
   "metadata": {},
   "source": [
    "# Palettes\n",
    "> The module provides several palettes that are recomended to be used with plotting functions offered by Allos."
   ]
  },
  {
   "cell_type": "code",
   "execution_count": null,
   "metadata": {},
   "outputs": [],
   "source": [
    "#| default_exp color_palette"
   ]
  },
  {
   "cell_type": "code",
   "execution_count": null,
   "metadata": {},
   "outputs": [
    {
     "name": "stdout",
     "output_type": "stream",
     "text": [
      "['#6c6246', '#387041', '#153c27', '#393525', '#b19c77', '#175934', '#d0e7f3', '#466175', '#8c8c5a', '#47462c', '#8c414e', '#579f4e', '#7cb282', '#30363a', '#672c37', '#e5c6ad', '#402b2f', '#b0606e', '#c1e5d8', '#829ea7']\n"
     ]
    }
   ],
   "source": [
    "#| hide\n",
    "# import colorgram\n",
    "#\n",
    "# # Extract colors from an image file\n",
    "# colors = colorgram.extract('/data/analysis/data_diamant/ghibli.png', 20)\n",
    "#\n",
    "# # Create a list to hold the extracted color codes\n",
    "# color_palette = []\n",
    "#\n",
    "# for color in colors:\n",
    "#     # Access the RGB values\n",
    "#     r = color.rgb.r\n",
    "#     g = color.rgb.g\n",
    "#     b = color.rgb.b\n",
    "#     # Format as a hexadecimal string and append to the palette\n",
    "#     color_palette.append(f'#{r:02x}{g:02x}{b:02x}')\n",
    "#\n",
    "# # Output the color palette\n",
    "# print(color_palette)"
   ]
  },
  {
   "cell_type": "code",
   "execution_count": null,
   "metadata": {},
   "outputs": [],
   "source": [
    "#| export\n",
    "synthwave = ['#100856', '#7243ee', '#da2ad3', '#3a58a4', '#2d149e', '#7f0d9a', '#3b0554', '#7a97f4', '#a127b4', '#696e43', '#de62e2', '#4e1af5', '#88904e', '#2d2c18', '#576d5c', '#4a4f20', '#909cfa', '#929574', '#c905ca', '#71a493']\n",
    "ghibli = ['#6c6246', '#387041', '#153c27', '#393525', '#b19c77', '#175934', '#d0e7f3', '#466175', '#8c8c5a', '#47462c', '#8c414e', '#579f4e', '#7cb282', '#30363a', '#672c37', '#e5c6ad', '#402b2f', '#b0606e', '#c1e5d8', '#829ea7']"
   ]
  },
  {
   "cell_type": "code",
   "execution_count": null,
   "metadata": {},
   "outputs": [],
   "source": [
    "#| hide \n",
    "from nbdev.showdoc import *"
   ]
  },
  {
   "cell_type": "code",
   "execution_count": null,
   "metadata": {},
   "outputs": [],
   "source": [
    "#| hide\n",
    "import nbdev; nbdev.nbdev_export()"
   ]
  }
 ],
 "metadata": {
  "kernelspec": {
   "display_name": "python3",
   "language": "python",
   "name": "python3"
  }
 },
 "nbformat": 4,
 "nbformat_minor": 2
}
