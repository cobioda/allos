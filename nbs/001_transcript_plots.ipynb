{
 "cells": [
  {
   "cell_type": "code",
   "execution_count": null,
   "id": "abaf08f36060bbba",
   "metadata": {},
   "outputs": [],
   "source": [
    "#| hide\n",
    "from nbdev.showdoc import *\n",
    "from allos.color_palette import ghibli"
   ]
  },
  {
   "metadata": {},
   "cell_type": "markdown",
   "source": [
    "# Transcript plots\n",
    "> The TranscriptPlots class is defined to facilitate the visualization of transcript structures.\n",
    "\n",
    "The class can be initialized with GTF and FASTA files (optional but recommended for further analysis with Transcript Data module). If provided, it creates an instance of TranscriptData.\n",
    "\n",
    "Methods:\n",
    "- get_transcript_info: Retrieves detailed information about a specified transcript, including its ID, name, type, coding sequence (CDS) start and end positions, chromosome, and strand orientation.\n",
    "- draw_transcripts_list: Public method to draw a list of transcripts with optional color customization.\n",
    "- draw_transcripts_list_unscaled: Similar to draw_transcripts_list but plots transcripts without scaling their intron lengths proportionally to their genomic lengths, useful for transcipts with extremely long introns"
   ],
   "id": "58e2c23843c1a114"
  },
  {
   "cell_type": "code",
   "execution_count": null,
   "id": "9b873c4cbabc5169",
   "metadata": {},
   "outputs": [],
   "source": [
    "#| default_exp transcript_plots"
   ]
  },
  {
   "cell_type": "code",
   "id": "initial_id",
   "metadata": {
    "ExecuteTime": {
     "end_time": "2025-01-26T23:46:36.920424Z",
     "start_time": "2025-01-26T23:46:36.231766Z"
    }
   },
   "source": [
    "#| export\n",
    "import numpy as np\n",
    "import requests\n",
    "import sys\n",
    "import matplotlib.pyplot as plt"
   ],
   "outputs": [],
   "execution_count": 1
  },
  {
   "cell_type": "code",
   "id": "3c05f3ea6565f746",
   "metadata": {
    "ExecuteTime": {
     "end_time": "2025-01-26T23:46:38.820030Z",
     "start_time": "2025-01-26T23:46:36.940432Z"
    }
   },
   "source": [
    "\n",
    "from allos.transcript_data import TranscriptData"
   ],
   "outputs": [],
   "execution_count": 2
  },
  {
   "cell_type": "code",
   "id": "e365d4f8336d010c",
   "metadata": {},
   "source": [
    "import os\n",
    "import urllib.request\n",
    "from pathlib import Path"
   ],
   "outputs": [],
   "execution_count": null
  },
  {
   "metadata": {
    "ExecuteTime": {
     "end_time": "2025-01-26T23:51:29.141281Z",
     "start_time": "2025-01-26T23:50:02.229095Z"
    }
   },
   "cell_type": "code",
   "outputs": [
    {
     "name": "stdout",
     "output_type": "stream",
     "text": [
      "Exons: +--------------+----------------+------------+-----------+-------+\n",
      "|   Chromosome | Source         | Feature    |     Start | +22   |\n",
      "|   (category) | (object)       | (object)   |   (int64) | ...   |\n",
      "|--------------+----------------+------------+-----------+-------|\n",
      "|            1 | ensembl_havana | exon       |   3740774 | ...   |\n",
      "|            1 | ensembl_havana | exon       |   3491924 | ...   |\n",
      "|            1 | ensembl_havana | exon       |   3284704 | ...   |\n",
      "+--------------+----------------+------------+-----------+-------+\n",
      "Stranded PyRanges object has 3 rows and 26 columns from 1 chromosomes.\n",
      "For printing, the PyRanges was sorted on Chromosome and Strand.\n",
      "22 hidden columns: End, Score, Strand, Frame, gene_id, gene_version, ... (+ 16 more.)\n"
     ]
    }
   ],
   "execution_count": 4,
   "source": [
    "# Example Ensembl URLs for mouse GRCm39 (release 109)\n",
    "gtf_url = \"ftp://ftp.ensembl.org/pub/release-109/gtf/mus_musculus/Mus_musculus.GRCm39.109.gtf.gz\"\n",
    "#fasta_url = \"ftp://ftp.ensembl.org/pub/release-109/fasta/mus_musculus/dna/Mus_musculus.GRCm39.dna.primary_assembly.fa.gz\"\n",
    "\n",
    "data_dir = Path(\"data\")\n",
    "data_dir.mkdir(exist_ok=True)\n",
    "\n",
    "gtf_file_local = data_dir / \"Mus_musculus.GRCm39.109.gtf.gz\"\n",
    "fasta_file_local = data_dir / \"Mus_musculus.GRCm39.dna.primary_assembly.fa.gz\"\n",
    "\n",
    "# Download if not already present\n",
    "if not gtf_file_local.is_file():\n",
    "    print(f\"Downloading {gtf_url}...\")\n",
    "    urllib.request.urlretrieve(gtf_url, gtf_file_local)\n",
    "\n",
    "#if not fasta_file_local.is_file():\n",
    "    #print(f\"Downloading {fasta_url}...\")\n",
    "    #urllib.request.urlretrieve(fasta_url, fasta_file_local)\n",
    "\n",
    "# Instantiate your TranscriptData\n",
    "td = TranscriptData(\n",
    "    gtf_file=gtf_file_local,\n",
    "    reference_fasta=fasta_file_local\n",
    ")\n",
    "\n",
    "# Now you can make queries like:\n",
    "example_transcript_id = \"ENSMUST00000070533\"  # e.g., for mouse\n",
    "exons = td.get_exons(example_transcript_id)\n",
    "print(\"Exons:\", exons)\n"
   ],
   "id": "da91337b"
  },
  {
   "cell_type": "code",
   "id": "31a625888b908b60",
   "metadata": {
    "ExecuteTime": {
     "end_time": "2025-01-27T00:18:05.139176Z",
     "start_time": "2025-01-27T00:18:04.968230Z"
    }
   },
   "source": [
    "# | export\n",
    "class TranscriptPlots:\n",
    "    def __init__(self, gtf_file=None, reference_fasta=None):\n",
    "        self.transcript_data = None\n",
    "        if gtf_file is not None:\n",
    "            self.transcript_data = TranscriptData(gtf_file=gtf_file, reference_fasta=reference_fasta)\n",
    "\n",
    "    def get_transcript_info(self, transcript_id):\n",
    "        if self.transcript_data is None:\n",
    "            raise NotImplementedError()\n",
    "\n",
    "        data_dict = dict()\n",
    "        keys = ['transcript_id', 'transcript_name', 'transcript_type', 'cds_start', 'cds_end', 'chromosome', 'strand']\n",
    "        for key in keys:\n",
    "            data_dict[key] = 0\n",
    "        data_dict['cds_end'] = -sys.maxsize\n",
    "        data_dict['cds_start'] = sys.maxsize\n",
    "        cds = self.transcript_data.get_cds(transcript_id)\n",
    "        df = cds.df.sort_values(by=\"Start\")\n",
    "        for _, row in df.iterrows():\n",
    "            data_dict['transcript_id'] = row[\"transcript_id\"]\n",
    "            data_dict['transcript_name'] = row[\"transcript_name\"]\n",
    "            data_dict['transcript_type'] = row[\"transcript_type\"] if 'transcript_type' in row else \"unknown\"\n",
    "            data_dict['cds_start'] = min(row[\"Start\"], data_dict['cds_start'])\n",
    "            data_dict['cds_end'] = max(row[\"Start\"], data_dict['cds_end'])\n",
    "            data_dict['chromosome'] = row[\"Chromosome\"]\n",
    "            data_dict['strand'] = row[\"Strand\"]\n",
    "\n",
    "        return data_dict\n",
    "\n",
    "    def _get_coord_from_tscrpt_id(self, transcript_id):\n",
    "        if self.transcript_data is None:\n",
    "            if '.' in transcript_id:\n",
    "                transcript_id = transcript_id.split('.')[0]\n",
    "            server = \"https://rest.ensembl.org\"\n",
    "            ext = \"/lookup/id/\" + transcript_id + \"?expand=1\"\n",
    "\n",
    "            r = requests.get(server+ext, headers={ \"Content-Type\" : \"application/json\"})\n",
    "\n",
    "            if not r.ok:\n",
    "                r.raise_for_status()\n",
    "                sys.exit()\n",
    "\n",
    "            decoded = r.json()\n",
    "            exon_list = list(decoded['Exon'])\n",
    "            exon_coord = []\n",
    "            for i, e in enumerate(exon_list):\n",
    "                coord = [e.get('end'), e.get('start')]\n",
    "                exon_coord.append(coord)\n",
    "            strand = decoded['strand']\n",
    "            return(exon_coord, strand)\n",
    "        else:\n",
    "            return self.transcript_data.get_exon_coords_and_strand(transcript_id)\n",
    "\n",
    "    def _draw_transcript(self, exons, direction, color, transcript_name, offset=0, start_override=None, end_override=None, no_render=False):\n",
    "        if not no_render:\n",
    "            plt.axes()\n",
    "            plt.xlim((-0.1, 1))\n",
    "            plt.ylim((-0.3, 0.3))\n",
    "            plt.margins(0.2)\n",
    "            plt.axis('off')\n",
    "            fig = plt.gcf()\n",
    "            fig.set_size_inches(20, 2)\n",
    "        height = 0.2\n",
    "        plt.plot([offset + 0.1, offset + 0.1], linestyle='solid', linewidth=0.5, c='grey')\n",
    "        j = 0\n",
    "        k = 1\n",
    "        if direction == 1:\n",
    "            pos_start = exons[0][1]\n",
    "            pos_end = exons[-1][0]\n",
    "        else: #direction == -1\n",
    "            pos_start = exons[-1][1]\n",
    "            pos_end = exons[0][0]\n",
    "            j = 1\n",
    "            k = 0\n",
    "        real_start = pos_start\n",
    "        real_end = pos_end\n",
    "        if start_override is not None and end_override is not None:\n",
    "            pos_start = start_override\n",
    "            pos_end = end_override\n",
    "        total_length = pos_end - pos_start\n",
    "        total_length_with_margin = 1.05 * total_length\n",
    "        pos_start_with_margin = pos_start - 0.025*total_length\n",
    "        for i, exon in enumerate(exons):\n",
    "            rectangle = plt.Rectangle(((exon[j] - pos_start_with_margin)/total_length_with_margin,offset), (exon[k] - exon[j])/total_length_with_margin, height, fc=color,ec=\"black\")\n",
    "            plt.gca().add_patch(rectangle)\n",
    "        if i > 0:\n",
    "            arrow = None\n",
    "            if direction < 0:\n",
    "                arrow = plt.arrow(1, offset - height/4, -1, 0, width=0.0015, head_length=0.01, head_width=0.1, length_includes_head=True, overhang=1)\n",
    "            else:\n",
    "                arrow = plt.arrow(0, offset - height/4, 1, 0, width=0.0015, head_length=0.01, head_width=0.1, length_includes_head=True, overhang=1)\n",
    "            plt.gca().add_patch(arrow)\n",
    "        plt.plot(np.array([0.025 + (real_start - pos_start) / (total_length)/1.05, 0.025 + (real_start - pos_start) / (total_length)/1.05]), np.array([offset - height/4 - 0.03, offset - height/4 + 0.03]), color='black')\n",
    "        plt.plot(np.array([1 - 0.025 - (pos_end - real_end) / (total_length)/1.05, 1 - 0.025 - (pos_end - real_end) / (total_length)/1.05]), np.array([offset - height/4 - 0.03, offset - height/4 + 0.03]), color='black')\n",
    "        plt.text(0.025 + (real_start - pos_start) / (total_length)/1.05, offset - height/4 - 0.075, real_start, horizontalalignment='center', verticalalignment='center', fontsize=9)\n",
    "        plt.text(1 - 0.025 - (pos_end - real_end) / (total_length)/1.05, offset - height/4 - 0.075, real_end, horizontalalignment='center', verticalalignment='center', fontsize=9)\n",
    "        plt.text(1, offset - height, transcript_name, horizontalalignment='right', verticalalignment='top', fontsize=12)\n",
    "        if not no_render:\n",
    "            plt.show()\n",
    "\n",
    "    def _draw_transcripts_list(self, trs_to_show, _ax, colors=None):\n",
    "        transcripts_id = trs_to_show\n",
    "        exons = []\n",
    "        directions = []\n",
    "        for tr in transcripts_id:\n",
    "            t, d = self._get_coord_from_tscrpt_id(tr)\n",
    "            exons += [t]\n",
    "            directions += [d]\n",
    "        if colors is None:\n",
    "            colors = []\n",
    "            for i in range(len(exons)):\n",
    "                colors.append(self.colors[i % len(self.colors)])\n",
    "        def get_limits(ex, dir):\n",
    "            start = sys.maxsize\n",
    "            end = -sys.maxsize\n",
    "            for (e, d) in zip(ex, dir):\n",
    "                if d == 1:\n",
    "                    start = min(start,e[0][1])\n",
    "                    end = max(end, e[-1][0])\n",
    "                else:\n",
    "                    start = min(start,e[-1][1])\n",
    "                    end = max(end, e[0][0])\n",
    "            return (start, end)\n",
    "        plt.axes()\n",
    "        plt.xlim((-0.1, 1.1))\n",
    "        plt.ylim((0.1 - 0.5 *  len(exons), 0.3))\n",
    "        plt.margins(0.2)\n",
    "        plt.axis('off')\n",
    "        fig = plt.gcf()\n",
    "        fig.set_size_inches(20, len(exons) * 2)\n",
    "        i = 0\n",
    "        (start, end) = get_limits(exons, directions)\n",
    "        for (ex, di, co, name) in zip(exons, directions, colors, transcripts_id):\n",
    "            self._draw_transcript(ex, di, co, name, offset= -0.5 * i, start_override=start, end_override=end, no_render=True)\n",
    "            i+=1\n",
    "        if _ax is None:\n",
    "            plt.show()\n",
    "        else:\n",
    "            return plt\n",
    "\n",
    "    def draw_transcripts_list(self, transcripts_ids, colors=None):\n",
    "        self._draw_transcripts_list(transcripts_ids, None, colors)\n",
    "\n",
    "    def draw_transcripts_list_unscaled(self, transcripts_id, colors=None):\n",
    "        exons = []\n",
    "        directions = []\n",
    "        for tr in transcripts_id:\n",
    "            t, d = self._get_coord_from_tscrpt_id(tr)\n",
    "            exons += [t]\n",
    "            directions += [d]\n",
    "        if colors is None:\n",
    "            colors = []\n",
    "            for i in range(len(exons)):\n",
    "                colors.append(self.colors[i % len(self.colors)])\n",
    "        def get_limits(ex, dir):\n",
    "            start = sys.maxsize\n",
    "            end = -sys.maxsize\n",
    "            for (e, d) in zip(ex, dir):\n",
    "                if d == 1:\n",
    "                    start = min(start,e[0][1])\n",
    "                    end = max(end, e[-1][0])\n",
    "                else:\n",
    "                    start = min(start,e[-1][1])\n",
    "                    end = max(end, e[0][0])\n",
    "            return (start, end)\n",
    "\n",
    "        def move_exons(exons_list, direction, max_width, min_width):\n",
    "            i = 1\n",
    "            if direction == 1:\n",
    "                while i < len(exons_list):\n",
    "                    if exons_list[i][1] - exons_list[i - 1][0] < min_width:\n",
    "                        diff = min_width - (exons_list[i][1] - exons_list[i - 1][0])\n",
    "                        exons_list[i][0] += diff\n",
    "                        exons_list[i][1] += diff\n",
    "                    elif exons_list[i][1] - exons_list[i - 1][0] > max_width:\n",
    "                        diff = (exons_list[i][1] - exons_list[i - 1][0]) - max_width\n",
    "                        exons_list[i][0] -= diff\n",
    "                        exons_list[i][1] -= diff\n",
    "                    i += 1\n",
    "            else:\n",
    "                while i < len(exons_list):\n",
    "                    if exons_list[i][0] - exons_list[i - 1][1] < min_width:\n",
    "                        diff = min_width - (exons_list[i][0] - exons_list[i - 1][1])\n",
    "                        exons_list[i][1] += diff\n",
    "                        exons_list[i][0] += diff\n",
    "                    elif exons_list[i][0] - exons_list[i - 1][1] > max_width:\n",
    "                        diff = (exons_list[i][0] - exons_list[i - 1][1]) - max_width\n",
    "                        exons_list[i][1] -= diff\n",
    "                        exons_list[i][0] -= diff\n",
    "                    i += 1\n",
    "            return exons_list\n",
    "        plt.axes()\n",
    "        plt.xlim((-0.1, 1.1))\n",
    "        plt.ylim((0.1 - 0.5 *  len(exons), 0.3))\n",
    "        plt.margins(0.2)\n",
    "        plt.axis('off')\n",
    "        fig = plt.gcf()\n",
    "        fig.set_size_inches(20, len(exons) * 2)\n",
    "        i = 0\n",
    "        fake_exons = []\n",
    "        fake_se = []\n",
    "        for exon_list, direction in zip(exons, directions):\n",
    "            fake_exon = []\n",
    "            (start, end) = get_limits([exon_list], [direction])\n",
    "            full_length = end - start\n",
    "            max_width = full_length / (len(exon_list) - 2 if len(exon_list) > 2 else 1)\n",
    "            min_width = full_length / (10 * (len(exon_list) + 5))\n",
    "            max_width_e = full_length / 2\n",
    "            min_width_e = full_length / 20\n",
    "            for exon in exon_list:\n",
    "                fake_exon_start = 0\n",
    "                fake_exon_end = 0\n",
    "                if direction == 1:\n",
    "                    fake_exon_start = exon[1]\n",
    "                    if (exon[0] - exon[1]) > max_width:\n",
    "                        fake_exon_end = exon[1] + max_width\n",
    "                    elif (exon[0] - exon[1]) < min_width:\n",
    "                        fake_exon_end = exon[1] + min_width\n",
    "                    else:\n",
    "                        fake_exon_end = exon[0]\n",
    "                    fake_exon.append([fake_exon_end, fake_exon_start])\n",
    "                else:\n",
    "                    fake_exon_start = exon[0]\n",
    "                    if (exon[1] - exon[0]) > max_width:\n",
    "                        fake_exon_end = exon[0] + max_width\n",
    "                    elif (exon[1] - exon[0]) < min_width:\n",
    "                        fake_exon_end = exon[0] + min_width\n",
    "                    else:\n",
    "                        fake_exon_end = exon[1]\n",
    "                    fake_exon.append([fake_exon_start, fake_exon_end])\n",
    "            fake_exon = move_exons(fake_exon, direction, max_width_e, min_width_e)\n",
    "            fake_exons.append(fake_exon)\n",
    "            (fake_s, fake_e) = get_limits([fake_exon], [direction])\n",
    "            fake_se.append([fake_s, fake_e])\n",
    "        for (ex, di, co, name) in zip(fake_exons, directions, colors, transcripts_id):\n",
    "            self._draw_transcript(ex, di, co, name, offset= -0.5 * i, start_override=fake_se[i][0], end_override=fake_se[i][1], no_render=True)\n",
    "            i+=1\n",
    "        plt.show()\n",
    "\n"
   ],
   "outputs": [],
   "execution_count": 16
  },
  {
   "metadata": {},
   "cell_type": "markdown",
   "source": "To initialise class:",
   "id": "e5076db61b298eb"
  },
  {
   "metadata": {
    "ExecuteTime": {
     "end_time": "2025-01-27T00:19:43.173411Z",
     "start_time": "2025-01-27T00:18:15.496398Z"
    }
   },
   "cell_type": "code",
   "source": "tp = TranscriptPlots(gtf_file_local)",
   "id": "55cfbcb0a0f402fd",
   "outputs": [],
   "execution_count": 17
  },
  {
   "metadata": {},
   "cell_type": "code",
   "outputs": [],
   "execution_count": null,
   "source": [
    "#| hide\n",
    "from allos.color_palette import ghibli"
   ],
   "id": "d7e634e9537f5c59"
  },
  {
   "metadata": {},
   "cell_type": "markdown",
   "source": "To plot a panel for one or several transcripts:",
   "id": "79f930d95e113c5b"
  },
  {
   "metadata": {
    "ExecuteTime": {
     "end_time": "2025-01-27T00:11:28.405855Z",
     "start_time": "2025-01-27T00:11:27.785451Z"
    }
   },
   "cell_type": "code",
   "source": "tp.draw_transcripts_list([\"ENSMUST00000107851\", \"ENSMUST00000107846\", \"ENSMUST00000107847\"], colors=ghibli)",
   "id": "92bde4864f78003b",
   "outputs": [
    {
     "data": {
      "text/plain": [
       "<Figure size 2000x600 with 1 Axes>"
      ],
      "image/png": "[encoded data removed]"
     },
     "metadata": {},
     "output_type": "display_data"
    }
   ],
   "execution_count": 12
  },
  {
   "metadata": {},
   "cell_type": "markdown",
   "source": "To retrieve information about a transcript of interest:",
   "id": "b3c5fa89c40ee4f"
  },
  {
   "metadata": {
    "ExecuteTime": {
     "end_time": "2025-01-27T00:21:34.010516Z",
     "start_time": "2025-01-27T00:21:31.900579Z"
    }
   },
   "cell_type": "code",
   "source": " tp.get_transcript_info(\"ENSMUST00000107847\")",
   "id": "7eb107dc85ec0d98",
   "outputs": [
    {
     "data": {
      "text/plain": [
       "{'transcript_id': 'ENSMUST00000107847',\n",
       " 'transcript_name': 'Clta-203',\n",
       " 'transcript_type': 'unknown',\n",
       " 'cds_start': 44012791,\n",
       " 'cds_end': 44032400,\n",
       " 'chromosome': '4',\n",
       " 'strand': '+'}"
      ]
     },
     "execution_count": 18,
     "metadata": {},
     "output_type": "execute_result"
    }
   ],
   "execution_count": 18
  },
  {
   "metadata": {},
   "cell_type": "markdown",
   "source": [
    "\"draw_transcript_list_unscaled\" keeps the structure of transcripts but shortens the introns. It is useful to compare the structure of\n",
    "transcipts with extremely long introns:"
   ],
   "id": "3f390d16408c0ceb"
  },
  {
   "metadata": {
    "ExecuteTime": {
     "end_time": "2025-01-27T00:29:56.570419Z",
     "start_time": "2025-01-27T00:29:54.825677Z"
    }
   },
   "cell_type": "code",
   "source": "tp.draw_transcripts_list_unscaled([\"ENSMUST00000107851\", \"ENSMUST00000107846\", \"ENSMUST00000107847\"], colors=ghibli)",
   "id": "3324519c8dd46eaf",
   "outputs": [
    {
     "data": {
      "text/plain": [
       "<Figure size 2000x600 with 1 Axes>"
      ],
      "image/png": "[encoded data removed]"
     },
     "metadata": {},
     "output_type": "display_data"
    }
   ],
   "execution_count": 21
  },
  {
   "metadata": {},
   "cell_type": "markdown",
   "source": "If neither gtf nor fasta is provided, the transcripts can be provided as ensembl id and the coordinates will be fetched from ensembl api.",
   "id": "51877d3b49d99f69"
  }
 ],
 "metadata": {
  "kernelspec": {
   "display_name": "python3",
   "language": "python",
   "name": "python3"
  }
 },
 "nbformat": 4,
 "nbformat_minor": 5
}
