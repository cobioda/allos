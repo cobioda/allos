{
 "cells": [
  {
   "cell_type": "code",
   "execution_count": 4,
   "id": "abaf08f36060bbba",
   "metadata": {},
   "outputs": [],
   "source": [
    "#| hide\n",
    "from nbdev.showdoc import *\n",
    "from allos.color_palette import ghibli\n",
    "import os\n",
    "import requests\n",
    "import gzip\n",
    "import shutil"
   ]
  },
  {
   "cell_type": "markdown",
   "id": "58e2c23843c1a114",
   "metadata": {},
   "source": [
    "# Transcript plots\n",
    "> The TranscriptPlots class is defined to facilitate the visualization of transcript structures.\n",
    "\n",
    "The class can be initialized with GTF and FASTA files (optional but recommended for further analysis with Transcript Data module). If provided, it creates an instance of TranscriptData.\n",
    "\n",
    "Methods:\n",
    "- get_transcript_info: Retrieves detailed information about a specified transcript, including its ID, name, type, coding sequence (CDS) start and end positions, chromosome, and strand orientation.\n",
    "- draw_transcripts_list: Public method to draw a list of transcripts with optional color customization.\n",
    "- draw_transcripts_list_unscaled: Similar to draw_transcripts_list but plots transcripts without scaling their intron lengths proportionally to their genomic lengths, useful for transcipts with extremely long introns"
   ]
  },
  {
   "cell_type": "code",
   "execution_count": null,
   "id": "9b873c4cbabc5169",
   "metadata": {},
   "outputs": [],
   "source": [
    "#| default_exp transcript_plots"
   ]
  },
  {
   "cell_type": "code",
   "execution_count": 31,
   "id": "initial_id",
   "metadata": {},
   "outputs": [],
   "source": [
    "#| export\n",
    "import numpy as np\n",
    "import requests\n",
    "import sys\n",
    "import matplotlib.pyplot as plt"
   ]
  },
  {
   "cell_type": "code",
   "execution_count": 3,
   "id": "3c05f3ea6565f746",
   "metadata": {},
   "outputs": [],
   "source": [
    "\n",
    "from allos.transcript_data import TranscriptData"
   ]
  },
  {
   "cell_type": "code",
   "execution_count": 4,
   "id": "e365d4f8336d010c",
   "metadata": {},
   "outputs": [],
   "source": [
    "import os\n",
    "import urllib.request\n",
    "from pathlib import Path"
   ]
  },
  {
   "cell_type": "code",
   "execution_count": null,
   "id": "da91337b",
   "metadata": {},
   "outputs": [
    {
     "name": "stdout",
     "output_type": "stream",
     "text": [
      "Exons: +--------------+----------------+------------+-----------+-------+\n",
      "|   Chromosome | Source         | Feature    |     Start | +22   |\n",
      "|   (category) | (object)       | (object)   |   (int64) | ...   |\n",
      "|--------------+----------------+------------+-----------+-------|\n",
      "|            1 | ensembl_havana | exon       |   3740774 | ...   |\n",
      "|            1 | ensembl_havana | exon       |   3491924 | ...   |\n",
      "|            1 | ensembl_havana | exon       |   3284704 | ...   |\n",
      "+--------------+----------------+------------+-----------+-------+\n",
      "Stranded PyRanges object has 3 rows and 26 columns from 1 chromosomes.\n",
      "For printing, the PyRanges was sorted on Chromosome and Strand.\n",
      "22 hidden columns: End, Score, Strand, Frame, gene_id, gene_version, ... (+ 16 more.)\n"
     ]
    }
   ],
   "source": [
    "\n"
   ]
  },
  {
   "cell_type": "code",
   "execution_count": null,
   "id": "1b5e4d80",
   "metadata": {},
   "outputs": [],
   "source": [
    "from allos.transcript_data import TranscriptData"
   ]
  },
  {
   "cell_type": "code",
   "execution_count": 110,
   "id": "31a625888b908b60",
   "metadata": {},
   "outputs": [],
   "source": [
    "# | export\n",
    "class TranscriptPlots:\n",
    "    def __init__(self, gtf_file=None, reference_fasta=None):\n",
    "        self.transcript_data = None\n",
    "        if gtf_file is not None:\n",
    "            from allos.transcript_data import TranscriptData\n",
    "            self.transcript_data = TranscriptData(gtf_file=gtf_file, reference_fasta=reference_fasta)\n",
    "\n",
    "    def get_transcript_info(self, transcript_id):\n",
    "        if self.transcript_data is None:\n",
    "            raise NotImplementedError()\n",
    "\n",
    "        data_dict = dict()\n",
    "        keys = ['transcript_id', 'transcript_name', 'transcript_type', 'cds_start', 'cds_end', 'chromosome', 'strand']\n",
    "        for key in keys:\n",
    "            data_dict[key] = 0\n",
    "        data_dict['cds_end'] = -sys.maxsize\n",
    "        data_dict['cds_start'] = sys.maxsize\n",
    "        cds = self.transcript_data.get_cds(transcript_id)\n",
    "        df = cds.df.sort_values(by=\"Start\")\n",
    "        for _, row in df.iterrows():\n",
    "            data_dict['transcript_id'] = row[\"transcript_id\"]\n",
    "            data_dict['transcript_name'] = row[\"transcript_name\"]\n",
    "            data_dict['transcript_type'] = row[\"transcript_type\"] if 'transcript_type' in row else \"unknown\"\n",
    "            data_dict['cds_start'] = min(row[\"Start\"], data_dict['cds_start'])\n",
    "            data_dict['cds_end'] = max(row[\"Start\"], data_dict['cds_end'])\n",
    "            data_dict['chromosome'] = row[\"Chromosome\"]\n",
    "            data_dict['strand'] = row[\"Strand\"]\n",
    "\n",
    "        return data_dict\n",
    "    \n",
    "    def _get_coord_from_tscrpt_id(self, transcript_id):\n",
    "        if self.transcript_data is None:\n",
    "            if '.' in transcript_id:\n",
    "                transcript_id = transcript_id.split('.')[0]\n",
    "            server = \"https://rest.ensembl.org\"\n",
    "            ext = \"/lookup/id/\" + transcript_id + \"?expand=1\"\n",
    "\n",
    "            r = requests.get(server+ext, headers={ \"Content-Type\" : \"application/json\"})\n",
    "\n",
    "            if not r.ok:\n",
    "                r.raise_for_status()\n",
    "                sys.exit()\n",
    "\n",
    "            decoded = r.json()\n",
    "            exon_list = list(decoded['Exon'])\n",
    "            exon_coord = []\n",
    "            for i, e in enumerate(exon_list):\n",
    "                coord = [e.get('end'), e.get('start')]\n",
    "                exon_coord.append(coord)\n",
    "            strand = decoded['strand']\n",
    "            return(exon_coord, strand)\n",
    "        else:\n",
    "            return self.transcript_data.get_exon_coords_and_strand(transcript_id)\n",
    "\n",
    "    def _draw_transcript(self, exons, direction, color, transcript_name, offset=0, start_override=None, end_override=None, no_render=False, with_cds=False):\n",
    "        if not no_render:\n",
    "            plt.axes()\n",
    "            plt.xlim((-0.1, 1))\n",
    "            plt.ylim((-0.3, 0.3))\n",
    "            plt.margins(0.2)\n",
    "            plt.axis('off')\n",
    "            fig = plt.gcf()\n",
    "            fig.set_size_inches(20, 2)\n",
    "        height = 0.2\n",
    "        cds_start, cds_end = 0, 0\n",
    "        # plt.plot([offset + 0.1, offset + 0.1], linestyle='solid', linewidth=0.5, c='grey')\n",
    "        j = 0\n",
    "        k = 1\n",
    "        if direction == 1:\n",
    "            pos_start = exons[0][1]\n",
    "            pos_end = exons[-1][0]\n",
    "        else: #direction == -1\n",
    "            pos_start = exons[-1][1]\n",
    "            pos_end = exons[0][0]\n",
    "            j = 1\n",
    "            k = 0\n",
    "        real_start = pos_start\n",
    "        real_end = pos_end\n",
    "        if with_cds:\n",
    "            t_info = self.get_transcript_info(transcript_name)\n",
    "            cds_start, cds_end = t_info['cds_start'], t_info['cds_end']\n",
    "        if start_override is not None and end_override is not None:\n",
    "            pos_start = start_override\n",
    "            pos_end = end_override\n",
    "        total_length = pos_end - pos_start\n",
    "        total_length_with_margin = 1.05 * total_length\n",
    "        pos_start_with_margin = pos_start - 0.025*total_length\n",
    "         # Draw introns as separate lines\n",
    "        for i in range(len(exons) - 1):\n",
    "            intron_start = exons[i][j]\n",
    "            intron_end = exons[i + 1][k]\n",
    "            plt.plot([(intron_start - pos_start_with_margin)/total_length_with_margin, (intron_end - pos_start_with_margin)/total_length_with_margin], [offset + 0.1, offset + 0.1], color='black', linestyle='-', linewidth=1)\n",
    "        for i, exon in enumerate(exons):\n",
    "            edgecolor= 'black'\n",
    "            if exon[j] <= cds_end and exon[k] >= cds_start:\n",
    "                edgecolor = 'red'  # Make CDS more visible\n",
    "                color = 'red'\n",
    "            rectangle = plt.Rectangle(((exon[j] - pos_start_with_margin)/total_length_with_margin,offset), (exon[k] - exon[j])/total_length_with_margin, height, fc=color,ec=\"black\",edgecolor=edgecolor)\n",
    "            plt.gca().add_patch(rectangle)\n",
    "        if i > 0:\n",
    "            arrow = None\n",
    "            if direction < 0:\n",
    "                arrow = plt.arrow(1, offset - height/4, -1, 0, width=0.0015, head_length=0.01, head_width=0.1, length_includes_head=True, overhang=1)\n",
    "            else:\n",
    "                arrow = plt.arrow(0, offset - height/4, 1, 0, width=0.0015, head_length=0.01, head_width=0.1, length_includes_head=True, overhang=1)\n",
    "            plt.gca().add_patch(arrow)\n",
    "        plt.plot(np.array([0.025 + (real_start - pos_start) / (total_length)/1.05, 0.025 + (real_start - pos_start) / (total_length)/1.05]), np.array([offset - height/4 - 0.03, offset - height/4 + 0.03]), color='black')\n",
    "        plt.plot(np.array([1 - 0.025 - (pos_end - real_end) / (total_length)/1.05, 1 - 0.025 - (pos_end - real_end) / (total_length)/1.05]), np.array([offset - height/4 - 0.03, offset - height/4 + 0.03]), color='black')\n",
    "        plt.text(0.025 + (real_start - pos_start) / (total_length)/1.05, offset - height/4 - 0.075, real_start, horizontalalignment='center', verticalalignment='center', fontsize=9)\n",
    "        plt.text(1 - 0.025 - (pos_end - real_end) / (total_length)/1.05, offset - height/4 - 0.075, real_end, horizontalalignment='center', verticalalignment='center', fontsize=9)\n",
    "        plt.text(1, offset - height, transcript_name, horizontalalignment='right', verticalalignment='top', fontsize=12)\n",
    "        if not no_render:\n",
    "            plt.show()\n",
    "\n",
    "    def _draw_transcripts_list(self, trs_to_show, _ax, colors=None, draw_cds=False):\n",
    "        transcripts_id = trs_to_show\n",
    "        exons = []\n",
    "        directions = []\n",
    "        for tr in transcripts_id:\n",
    "            t, d = self._get_coord_from_tscrpt_id(tr)\n",
    "            exons += [t]\n",
    "            directions += [d]\n",
    "        if colors is None:\n",
    "            colors = []\n",
    "            for i in range(len(exons)):\n",
    "                colors.append(self.colors[i % len(self.colors)])\n",
    "        def get_limits(ex, dir):\n",
    "            start = sys.maxsize\n",
    "            end = -sys.maxsize\n",
    "            for (e, d) in zip(ex, dir):\n",
    "                if d == 1:\n",
    "                    start = min(start,e[0][1])\n",
    "                    end = max(end, e[-1][0])\n",
    "                else:\n",
    "                    start = min(start,e[-1][1])\n",
    "                    end = max(end, e[0][0])\n",
    "            return (start, end)\n",
    "        plt.axes()\n",
    "        plt.xlim((-0.1, 1.1))\n",
    "        plt.ylim((0.1 - 0.5 *  len(exons), 0.3))\n",
    "        plt.margins(0.2)\n",
    "        plt.axis('off')\n",
    "        fig = plt.gcf()\n",
    "        fig.set_size_inches(20, len(exons) * 2)\n",
    "        i = 0\n",
    "        (start, end) = get_limits(exons, directions)\n",
    "        for (ex, di, co, name) in zip(exons, directions, colors, transcripts_id):\n",
    "            self._draw_transcript(ex, di, co, name, offset= -0.5 * i, start_override=start, end_override=end, no_render=True, with_cds=draw_cds)\n",
    "            i+=1\n",
    "        if _ax is None:\n",
    "            plt.show()\n",
    "        else:\n",
    "            return plt\n",
    "\n",
    "    def draw_transcripts_list(self, transcripts_ids, colors=None, draw_cds=False):\n",
    "        if draw_cds and self.transcript_data is None:\n",
    "            raise Exception('A GTF file is compulsory in order to display the CDS region')\n",
    "        self._draw_transcripts_list(transcripts_ids, None, colors, draw_cds=draw_cds)\n",
    "\n",
    "    def draw_transcripts_list_unscaled(self, transcripts_id, colors=None):\n",
    "        exons = []\n",
    "        directions = []\n",
    "        for tr in transcripts_id:\n",
    "            t, d = self._get_coord_from_tscrpt_id(tr)\n",
    "            exons += [t]\n",
    "            directions += [d]\n",
    "        if colors is None:\n",
    "            colors = []\n",
    "            for i in range(len(exons)):\n",
    "                colors.append(self.colors[i % len(self.colors)])\n",
    "        def get_limits(ex, dir):\n",
    "            start = sys.maxsize\n",
    "            end = -sys.maxsize\n",
    "            for (e, d) in zip(ex, dir):\n",
    "                if d == 1:\n",
    "                    start = min(start,e[0][1])\n",
    "                    end = max(end, e[-1][0])\n",
    "                else:\n",
    "                    start = min(start,e[-1][1])\n",
    "                    end = max(end, e[0][0])\n",
    "            return (start, end)\n",
    "\n",
    "        def move_exons(exons_list, direction, max_width, min_width):\n",
    "            i = 1\n",
    "            if direction == 1:\n",
    "                while i < len(exons_list):\n",
    "                    if exons_list[i][1] - exons_list[i - 1][0] < min_width:\n",
    "                        diff = min_width - (exons_list[i][1] - exons_list[i - 1][0])\n",
    "                        exons_list[i][0] += diff\n",
    "                        exons_list[i][1] += diff\n",
    "                    elif exons_list[i][1] - exons_list[i - 1][0] > max_width:\n",
    "                        diff = (exons_list[i][1] - exons_list[i - 1][0]) - max_width\n",
    "                        exons_list[i][0] -= diff\n",
    "                        exons_list[i][1] -= diff\n",
    "                    i += 1\n",
    "            else:\n",
    "                while i < len(exons_list):\n",
    "                    if exons_list[i][0] - exons_list[i - 1][1] < min_width:\n",
    "                        diff = min_width - (exons_list[i][0] - exons_list[i - 1][1])\n",
    "                        exons_list[i][1] += diff\n",
    "                        exons_list[i][0] += diff\n",
    "                    elif exons_list[i][0] - exons_list[i - 1][1] > max_width:\n",
    "                        diff = (exons_list[i][0] - exons_list[i - 1][1]) - max_width\n",
    "                        exons_list[i][1] -= diff\n",
    "                        exons_list[i][0] -= diff\n",
    "                    i += 1\n",
    "            return exons_list\n",
    "        plt.axes()\n",
    "        plt.xlim((-0.1, 1.1))\n",
    "        plt.ylim((0.1 - 0.5 *  len(exons), 0.3))\n",
    "        plt.margins(0.2)\n",
    "        plt.axis('off')\n",
    "        fig = plt.gcf()\n",
    "        fig.set_size_inches(20, len(exons) * 2)\n",
    "        i = 0\n",
    "        fake_exons = []\n",
    "        fake_se = []\n",
    "        for exon_list, direction in zip(exons, directions):\n",
    "            fake_exon = []\n",
    "            (start, end) = get_limits([exon_list], [direction])\n",
    "            full_length = end - start\n",
    "            max_width = full_length / (len(exon_list) - 2 if len(exon_list) > 2 else 1)\n",
    "            min_width = full_length / (10 * (len(exon_list) + 5))\n",
    "            max_width_e = full_length / 2\n",
    "            min_width_e = full_length / 20\n",
    "            for exon in exon_list:\n",
    "                fake_exon_start = 0\n",
    "                fake_exon_end = 0\n",
    "                if direction == 1:\n",
    "                    fake_exon_start = exon[1]\n",
    "                    if (exon[0] - exon[1]) > max_width:\n",
    "                        fake_exon_end = exon[1] + max_width\n",
    "                    elif (exon[0] - exon[1]) < min_width:\n",
    "                        fake_exon_end = exon[1] + min_width\n",
    "                    else:\n",
    "                        fake_exon_end = exon[0]\n",
    "                    fake_exon.append([fake_exon_end, fake_exon_start])\n",
    "                else:\n",
    "                    fake_exon_start = exon[0]\n",
    "                    if (exon[1] - exon[0]) > max_width:\n",
    "                        fake_exon_end = exon[0] + max_width\n",
    "                    elif (exon[1] - exon[0]) < min_width:\n",
    "                        fake_exon_end = exon[0] + min_width\n",
    "                    else:\n",
    "                        fake_exon_end = exon[1]\n",
    "                    fake_exon.append([fake_exon_start, fake_exon_end])\n",
    "            fake_exon = move_exons(fake_exon, direction, max_width_e, min_width_e)\n",
    "            fake_exons.append(fake_exon)\n",
    "            (fake_s, fake_e) = get_limits([fake_exon], [direction])\n",
    "            fake_se.append([fake_s, fake_e])\n",
    "        for (ex, di, co, name) in zip(fake_exons, directions, colors, transcripts_id):\n",
    "            self._draw_transcript(ex, di, co, name, offset= -0.5 * i, start_override=fake_se[i][0], end_override=fake_se[i][1], no_render=True)\n",
    "            i+=1\n",
    "        plt.show()\n"
   ]
  },
  {
   "cell_type": "markdown",
   "id": "e5076db61b298eb",
   "metadata": {},
   "source": [
    "To initialise class:"
   ]
  },
  {
   "cell_type": "code",
   "execution_count": 111,
   "id": "55cfbcb0a0f402fd",
   "metadata": {},
   "outputs": [],
   "source": [
    "tp = TranscriptPlots(gtf_file=\"/data/analysis/data_diamant/allos/allos/data/custom_subset.gtf\")"
   ]
  },
  {
   "cell_type": "code",
   "execution_count": 85,
   "id": "d7e634e9537f5c59",
   "metadata": {},
   "outputs": [],
   "source": [
    "#| hide\n",
    "from allos.color_palette import ghibli"
   ]
  },
  {
   "cell_type": "code",
   "execution_count": 100,
   "id": "f8c555f2",
   "metadata": {},
   "outputs": [
    {
     "data": {
      "text/plain": [
       "{'transcript_id': 'ENSMUST00000107851',\n",
       " 'transcript_name': 'Clta-205',\n",
       " 'transcript_type': 'unknown',\n",
       " 'cds_start': 44012791,\n",
       " 'cds_end': 44032400,\n",
       " 'chromosome': '4',\n",
       " 'strand': '+'}"
      ]
     },
     "execution_count": 100,
     "metadata": {},
     "output_type": "execute_result"
    }
   ],
   "source": [
    "tp.get_transcript_info('ENSMUST00000107851')"
   ]
  },
  {
   "cell_type": "markdown",
   "id": "79f930d95e113c5b",
   "metadata": {},
   "source": [
    "To plot a panel for one or several transcripts:"
   ]
  },
  {
   "cell_type": "code",
   "execution_count": 112,
   "id": "92bde4864f78003b",
   "metadata": {},
   "outputs": [
    {
     "data": {
      "image/png": "[encoded data removed]",
      "text/plain": [
       "<Figure size 2000x600 with 1 Axes>"
      ]
     },
     "metadata": {},
     "output_type": "display_data"
    }
   ],
   "source": [
    "tp.draw_transcripts_list([\"ENSMUST00000107851\", \"ENSMUST00000107846\", \"ENSMUST00000107847\"], colors=ghibli, draw_cds=True)\n"
   ]
  },
  {
   "cell_type": "markdown",
   "id": "b3c5fa89c40ee4f",
   "metadata": {},
   "source": [
    "get_transcript_info helps to retrieve information about the transcripts of interest:"
   ]
  },
  {
   "cell_type": "code",
   "execution_count": 109,
   "id": "207dc620",
   "metadata": {},
   "outputs": [
    {
     "name": "stdout",
     "output_type": "stream",
     "text": [
      "        transcript_id transcript_name transcript_type  cds_start   cds_end  \\\n",
      "0  ENSMUST00000107851        Clta-205         unknown   44012791  44032400   \n",
      "1  ENSMUST00000107846        Clta-202         unknown   44012791  44032400   \n",
      "2  ENSMUST00000107847        Clta-203         unknown   44012791  44032400   \n",
      "\n",
      "  chromosome strand  \n",
      "0          4      +  \n",
      "1          4      +  \n",
      "2          4      +  \n"
     ]
    }
   ],
   "source": [
    "import pandas as pd  \n",
    "\n",
    "transcripts = [\"ENSMUST00000107851\", \"ENSMUST00000107846\", \"ENSMUST00000107847\"]\n",
    "transcripts_info = []\n",
    "\n",
    "for i in transcripts:\n",
    "    transcripts_info.append(tp.get_transcript_info(i))  # Append transcript info to list\n",
    "\n",
    "df = pd.DataFrame(transcripts_info)  # Convert list of dictionaries to DataFrame\n",
    "print(df)  # Display the DataFrame"
   ]
  },
  {
   "cell_type": "markdown",
   "id": "3f390d16408c0ceb",
   "metadata": {},
   "source": [
    "\"draw_transcript_list_unscaled\" keeps the structure of transcripts but shortens the introns. It is useful to compare the structure of\n",
    "transcipts with extremely long introns:"
   ]
  },
  {
   "cell_type": "code",
   "execution_count": null,
   "id": "3324519c8dd46eaf",
   "metadata": {},
   "outputs": [
    {
     "data": {
      "image/png": "[encoded data removed]",
      "text/plain": [
       "<Figure size 2000x600 with 1 Axes>"
      ]
     },
     "metadata": {},
     "output_type": "display_data"
    }
   ],
   "source": [
    "tp.draw_transcripts_list_unscaled([\"ENSMUST00000107851\", \"ENSMUST00000107846\", \"ENSMUST00000107847\"], colors=ghibli)"
   ]
  },
  {
   "cell_type": "markdown",
   "id": "51877d3b49d99f69",
   "metadata": {},
   "source": [
    "If neither gtf nor fasta is provided, the transcripts can be provided as ensembl id and the coordinates will be fetched from ensembl api."
   ]
  },
  {
   "cell_type": "code",
   "execution_count": 13,
   "id": "ad46c572",
   "metadata": {},
   "outputs": [],
   "source": [
    "#cage_peaks = \"https://fantom.gsc.riken.jp/5/datafiles/reprocessed/mm10_latest/extra/CAGE_peaks/mm10_fair+new_CAGE_peaks_phase1and2.bed.gz\"\n",
    "cage_peaks = \"https://reftss.riken.jp/datafiles/current/mouse/refTSS_v4.1_mouse_coordinate.mm39.bed.gz\""
   ]
  },
  {
   "cell_type": "code",
   "execution_count": 5,
   "id": "b8a78264",
   "metadata": {},
   "outputs": [],
   "source": [
    "def download_and_extract_bed(url, local_folder):\n",
    "    \"\"\"\n",
    "    Downloads and extracts a BED file from a given URL if it doesn't already exist.\n",
    "    \n",
    "    Parameters:\n",
    "    - url (str): The URL of the `.bed.gz` file to download.\n",
    "    - local_folder (str): The folder where the file should be saved.\n",
    "    \n",
    "    Returns:\n",
    "    - str: Path to the extracted BED file.\n",
    "    \"\"\"\n",
    "    # Ensure local folder exists\n",
    "    os.makedirs(local_folder, exist_ok=True)\n",
    "\n",
    "    # Extract filename from URL\n",
    "    filename = os.path.basename(url)\n",
    "    compressed_file = os.path.join(local_folder, filename)\n",
    "    extracted_file = compressed_file.replace(\".gz\", \"\")\n",
    "\n",
    "    # Check if extracted file already exists\n",
    "    if os.path.exists(extracted_file):\n",
    "        print(f\"Extracted BED file already exists: {extracted_file}\")\n",
    "        return extracted_file\n",
    "\n",
    "    # Download if necessary\n",
    "    if not os.path.exists(compressed_file):\n",
    "        print(f\"Downloading {compressed_file}...\")\n",
    "        response = requests.get(url, stream=True)\n",
    "        with open(compressed_file, \"wb\") as f:\n",
    "            shutil.copyfileobj(response.raw, f)\n",
    "        print(\"Download complete.\")\n",
    "\n",
    "    # Extract the file\n",
    "    print(f\"Extracting {compressed_file}...\")\n",
    "    with gzip.open(compressed_file, \"rb\") as f_in, open(extracted_file, \"wb\") as f_out:\n",
    "        shutil.copyfileobj(f_in, f_out)\n",
    "    print(f\"Extraction complete: {extracted_file}\")\n",
    "\n",
    "    return extracted_file"
   ]
  },
  {
   "cell_type": "code",
   "execution_count": 14,
   "id": "f3ca0fc4",
   "metadata": {},
   "outputs": [
    {
     "name": "stdout",
     "output_type": "stream",
     "text": [
      "Downloading ../data/refTSS_v4.1_mouse_coordinate.mm39.bed.gz...\n",
      "Download complete.\n",
      "Extracting ../data/refTSS_v4.1_mouse_coordinate.mm39.bed.gz...\n",
      "Extraction complete: ../data/refTSS_v4.1_mouse_coordinate.mm39.bed\n"
     ]
    }
   ],
   "source": [
    "cage_peaks = download_and_extract_bed(cage_peaks, \"../data/\")"
   ]
  },
  {
   "cell_type": "code",
   "execution_count": 20,
   "id": "6fd83fc1",
   "metadata": {},
   "outputs": [],
   "source": [
    "import pandas as pd\n",
    "#col_names = [\"chrom\", \"start\", \"end\", \"name\", \"score\", \"strand\"]\n",
    "cage_df = pd.read_csv(cage_peaks, sep=\"\\t\", comment='#')"
   ]
  },
  {
   "cell_type": "code",
   "execution_count": 21,
   "id": "11e7393f",
   "metadata": {},
   "outputs": [
    {
     "data": {
      "text/html": [
       "<div>\n",
       "<style scoped>\n",
       "    .dataframe tbody tr th:only-of-type {\n",
       "        vertical-align: middle;\n",
       "    }\n",
       "\n",
       "    .dataframe tbody tr th {\n",
       "        vertical-align: top;\n",
       "    }\n",
       "\n",
       "    .dataframe thead th {\n",
       "        text-align: right;\n",
       "    }\n",
       "</style>\n",
       "<table border=\"1\" class=\"dataframe\">\n",
       "  <thead>\n",
       "    <tr style=\"text-align: right;\">\n",
       "      <th></th>\n",
       "      <th>chromosome</th>\n",
       "      <th>start</th>\n",
       "      <th>end</th>\n",
       "      <th>refTSS_ID</th>\n",
       "      <th>score</th>\n",
       "      <th>strand</th>\n",
       "    </tr>\n",
       "  </thead>\n",
       "  <tbody>\n",
       "    <tr>\n",
       "      <th>0</th>\n",
       "      <td>chr1</td>\n",
       "      <td>3221101</td>\n",
       "      <td>3221109</td>\n",
       "      <td>rfmm_1.1</td>\n",
       "      <td>1</td>\n",
       "      <td>+</td>\n",
       "    </tr>\n",
       "    <tr>\n",
       "      <th>1</th>\n",
       "      <td>chr1</td>\n",
       "      <td>3226272</td>\n",
       "      <td>3226277</td>\n",
       "      <td>rfmm_2.1</td>\n",
       "      <td>1</td>\n",
       "      <td>+</td>\n",
       "    </tr>\n",
       "    <tr>\n",
       "      <th>2</th>\n",
       "      <td>chr1</td>\n",
       "      <td>3389727</td>\n",
       "      <td>3389730</td>\n",
       "      <td>rfmm_3.1</td>\n",
       "      <td>1</td>\n",
       "      <td>-</td>\n",
       "    </tr>\n",
       "    <tr>\n",
       "      <th>3</th>\n",
       "      <td>chr1</td>\n",
       "      <td>3448009</td>\n",
       "      <td>3448012</td>\n",
       "      <td>rfmm_4.1</td>\n",
       "      <td>1</td>\n",
       "      <td>-</td>\n",
       "    </tr>\n",
       "    <tr>\n",
       "      <th>4</th>\n",
       "      <td>chr1</td>\n",
       "      <td>3559372</td>\n",
       "      <td>3559376</td>\n",
       "      <td>rfmm_5.1</td>\n",
       "      <td>1</td>\n",
       "      <td>-</td>\n",
       "    </tr>\n",
       "    <tr>\n",
       "      <th>...</th>\n",
       "      <td>...</td>\n",
       "      <td>...</td>\n",
       "      <td>...</td>\n",
       "      <td>...</td>\n",
       "      <td>...</td>\n",
       "      <td>...</td>\n",
       "    </tr>\n",
       "    <tr>\n",
       "      <th>172319</th>\n",
       "      <td>chrY</td>\n",
       "      <td>90831164</td>\n",
       "      <td>90831167</td>\n",
       "      <td>rfmm_172320.1</td>\n",
       "      <td>1</td>\n",
       "      <td>+</td>\n",
       "    </tr>\n",
       "    <tr>\n",
       "      <th>172320</th>\n",
       "      <td>chrY</td>\n",
       "      <td>90831173</td>\n",
       "      <td>90831188</td>\n",
       "      <td>rfmm_172321.1</td>\n",
       "      <td>1</td>\n",
       "      <td>+</td>\n",
       "    </tr>\n",
       "    <tr>\n",
       "      <th>172321</th>\n",
       "      <td>chrY</td>\n",
       "      <td>90831968</td>\n",
       "      <td>90831970</td>\n",
       "      <td>rfmm_172322.1</td>\n",
       "      <td>1</td>\n",
       "      <td>+</td>\n",
       "    </tr>\n",
       "    <tr>\n",
       "      <th>172322</th>\n",
       "      <td>chrY</td>\n",
       "      <td>90836575</td>\n",
       "      <td>90836577</td>\n",
       "      <td>rfmm_172323.1</td>\n",
       "      <td>1</td>\n",
       "      <td>-</td>\n",
       "    </tr>\n",
       "    <tr>\n",
       "      <th>172323</th>\n",
       "      <td>chrY</td>\n",
       "      <td>90839978</td>\n",
       "      <td>90840019</td>\n",
       "      <td>rfmm_172324.1</td>\n",
       "      <td>1</td>\n",
       "      <td>-</td>\n",
       "    </tr>\n",
       "  </tbody>\n",
       "</table>\n",
       "<p>172324 rows × 6 columns</p>\n",
       "</div>"
      ],
      "text/plain": [
       "       chromosome     start       end      refTSS_ID  score strand\n",
       "0            chr1   3221101   3221109       rfmm_1.1      1      +\n",
       "1            chr1   3226272   3226277       rfmm_2.1      1      +\n",
       "2            chr1   3389727   3389730       rfmm_3.1      1      -\n",
       "3            chr1   3448009   3448012       rfmm_4.1      1      -\n",
       "4            chr1   3559372   3559376       rfmm_5.1      1      -\n",
       "...           ...       ...       ...            ...    ...    ...\n",
       "172319       chrY  90831164  90831167  rfmm_172320.1      1      +\n",
       "172320       chrY  90831173  90831188  rfmm_172321.1      1      +\n",
       "172321       chrY  90831968  90831970  rfmm_172322.1      1      +\n",
       "172322       chrY  90836575  90836577  rfmm_172323.1      1      -\n",
       "172323       chrY  90839978  90840019  rfmm_172324.1      1      -\n",
       "\n",
       "[172324 rows x 6 columns]"
      ]
     },
     "execution_count": 21,
     "metadata": {},
     "output_type": "execute_result"
    }
   ],
   "source": [
    "cage_df"
   ]
  },
  {
   "cell_type": "code",
   "execution_count": 113,
   "id": "382ea949",
   "metadata": {},
   "outputs": [],
   "source": [
    "# find the tss that overlap with the gene coordinates:\n",
    "# get the coordinates of plot transcript panel, find the tss coordinates \n",
    "# that are inside these limits (pos_end, pos_start in _draw_transcript):\n"
   ]
  },
  {
   "cell_type": "code",
   "execution_count": 94,
   "id": "a1855a4d",
   "metadata": {},
   "outputs": [],
   "source": [
    "def extract_genes_from_gtf(gtf_gz_path, output_gtf, gene_ids):\n",
    "    \"\"\"\n",
    "    Extracts specified genes from a GTF file inside a .gz archive and writes a new GTF file.\n",
    "\n",
    "    Parameters:\n",
    "    - gtf_gz_path (str): Path to the original GTF .gz file.\n",
    "    - output_gtf (str): Path for the new GTF file.\n",
    "    - gene_ids (list): List of gene IDs to extract (e.g., [\"ENSMUSG00000025902\", \"ENSMUSG00000025903\"]).\n",
    "    \"\"\"\n",
    "    extracted_gtf_path = gtf_gz_path.rstrip(\".gz\")  # Remove .gz extension for the extracted file\n",
    "\n",
    "    # Check if extracted file already exists\n",
    "    from pathlib import Path\n",
    "    if not Path(extracted_gtf_path).exists():\n",
    "        print(f\"🔄 Extracting {gtf_gz_path}...\")\n",
    "        with gzip.open(gtf_gz_path, \"rt\") as gz_file, open(extracted_gtf_path, \"w\") as out_file:\n",
    "            shutil.copyfileobj(gz_file, out_file)\n",
    "        print(f\"✅ Extracted: {extracted_gtf_path}\")\n",
    "    else:\n",
    "        print(f\"📂 Using existing extracted file: {extracted_gtf_path}\")\n",
    "\n",
    "    # Read the extracted GTF file, skipping comment lines\n",
    "    gtf = pd.read_csv(extracted_gtf_path, sep=\"\\t\", comment='#', header=None, dtype=str)\n",
    "\n",
    "    # GTF column names based on Ensembl/Gencode format\n",
    "    gtf.columns = [\n",
    "        \"seqname\", \"source\", \"feature\", \"start\", \"end\", \"score\",\n",
    "        \"strand\", \"frame\", \"attribute\"\n",
    "    ]\n",
    "\n",
    "    # Extract gene IDs from the 'attribute' column\n",
    "    def get_gene_id(attribute):\n",
    "        for entry in attribute.split(\";\"):\n",
    "            entry = entry.strip()\n",
    "            if entry.startswith(\"gene_id\"):\n",
    "                return entry.split(\" \")[1].strip('\"')\n",
    "        return None\n",
    "\n",
    "    # Filter GTF for the selected genes\n",
    "    gtf[\"gene_id\"] = gtf[\"attribute\"].apply(get_gene_id)\n",
    "    filtered_gtf = gtf[gtf[\"gene_id\"].isin(gene_ids)].drop(columns=[\"gene_id\"])\n",
    "\n",
    "    # Save to new GTF file\n",
    "    filtered_gtf.to_csv(output_gtf, sep=\"\\t\", index=False, header=False, quoting=3)\n",
    "\n",
    "    print(f\"✅ Extracted {len(filtered_gtf)} entries for {len(gene_ids)} genes into {output_gtf}\")\n"
   ]
  },
  {
   "cell_type": "code",
   "execution_count": 98,
   "id": "e5d53b09",
   "metadata": {},
   "outputs": [
    {
     "name": "stdout",
     "output_type": "stream",
     "text": [
      "📂 Using existing extracted file: /data/analysis/data_diamant/allos/allos/data/Mus_musculus.GRCm39.109.gtf\n",
      "✅ Extracted 250 entries for 2 genes into /data/analysis/data_diamant/allos/allos/data/custom_subset.gtf\n"
     ]
    }
   ],
   "source": [
    "big_gtf = \"/data/analysis/data_diamant/allos/allos/data/Mus_musculus.GRCm39.109.gtf\"\n",
    "custom_gtf = \"/data/analysis/data_diamant/allos/allos/data/custom_subset.gtf\"\n",
    "selected_genes = [\"ENSMUSG00000028478\", \"ENSMUSG00000025903\"]  # Replace with your genes of interest\n",
    "\n",
    "extract_genes_from_gtf(big_gtf, custom_gtf, selected_genes)\n"
   ]
  },
  {
   "cell_type": "code",
   "execution_count": 119,
   "id": "e37725c2",
   "metadata": {},
   "outputs": [],
   "source": [
    "from allos.transcript_data import TranscriptData\n",
    "td = TranscriptData(gtf_file=\"/data/analysis/data_diamant/allos/allos/data/custom_subset.gtf\")"
   ]
  },
  {
   "cell_type": "code",
   "execution_count": 121,
   "id": "f1177cc1",
   "metadata": {},
   "outputs": [
    {
     "data": {
      "text/plain": [
       "<allos.transcript_data.TranscriptData at 0x7f06de7f8ce0>"
      ]
     },
     "execution_count": 121,
     "metadata": {},
     "output_type": "execute_result"
    }
   ],
   "source": [
    "td"
   ]
  },
  {
   "cell_type": "code",
   "execution_count": 122,
   "id": "44ebde85",
   "metadata": {},
   "outputs": [
    {
     "name": "stderr",
     "output_type": "stream",
     "text": [
      "WARNING:root:No exons found for transcript ENSMUSG00000028478.\n"
     ]
    },
    {
     "data": {
      "text/plain": [
       "([], None)"
      ]
     },
     "execution_count": 122,
     "metadata": {},
     "output_type": "execute_result"
    }
   ],
   "source": [
    "td.get_exon_coords_and_strand(\"ENSMUSG00000028478\")"
   ]
  },
  {
   "cell_type": "code",
   "execution_count": 150,
   "id": "6cb2aaa7",
   "metadata": {},
   "outputs": [],
   "source": [
    "import pyranges as pr\n",
    "\n",
    "def get_gene_coordinates_from_gtf(gtf_path, transcript_id):\n",
    "    \"\"\"Extracts chromosome, start, and end coordinates of a gene from a GTF file using transcript ID.\"\"\"\n",
    "    \n",
    "    # Load GTF file as pyranges object\n",
    "    gtf = pr.read_gtf(gtf_path)\n",
    "    \n",
    "    # Check available columns\n",
    "    print(\"Available columns in GTF:\", gtf.columns)\n",
    "\n",
    "    # Ensure the transcript ID column exists\n",
    "    if \"transcript_id\" not in gtf.columns:\n",
    "        raise ValueError(\"Column 'transcript_id' not found in GTF. Check column names.\")\n",
    "\n",
    "    # Find the gene associated with the given transcript ID\n",
    "    transcript_info = gtf[gtf.transcript_id == transcript_id]  # Use the correct column name\n",
    "\n",
    "    if transcript_info.empty:\n",
    "        raise ValueError(f\"Transcript '{transcript_id}' not found in GTF file.\")\n",
    "\n",
    "    # Get gene ID associated with the transcript\n",
    "    gene_id = transcript_info.gene_id.iloc[0]  # Ensure correct column name\n",
    "    \n",
    "    # Extract gene coordinates\n",
    "    gene_info = gtf[gtf.gene_id == gene_id]  # Ensure correct column name\n",
    "\n",
    "    chromosome = gene_info.Chromosome.iloc[0]\n",
    "    start = gene_info.Start.min()\n",
    "    end = gene_info.End.max()\n",
    "\n",
    "    return {\"gene_id\": gene_id, \"chromosome\": chromosome, \"start\": start, \"end\": end}\n",
    "\n",
    "\n",
    "def find_tss_in_gene_range(cage_peaks_df, gene_coordinates):\n",
    "    \"\"\"Finds CAGE TSS peaks that overlap with the gene coordinates.\"\"\"\n",
    "    # Ensure chromosome formats match between gene_coordinates and cage_peaks_df\n",
    "    gene_chr = gene_coordinates[\"chromosome\"]\n",
    "    cage_chr = cage_peaks_df[\"chromosome\"].unique()\n",
    "\n",
    "    # Check if gene_chr starts with \"chr\"\n",
    "    if not gene_chr.startswith(\"chr\"):\n",
    "        gene_coordinates[\"chromosome\"] = f\"chr{gene_chr}\"\n",
    "\n",
    "    # Check if cage_peaks_df chromosomes start with \"chr\"\n",
    "    if any(not c.startswith(\"chr\") for c in cage_chr):\n",
    "        cage_peaks_df[\"chromosome\"] = cage_peaks_df[\"chromosome\"].apply(lambda x: f\"chr{x}\" if not x.startswith(\"chr\") else x)\n",
    "\n",
    "    print(\"✅ Chromosome formats are now consistent!\")\n",
    "    # Filter peaks that are in the same chromosome\n",
    "    peaks_in_chromosome = cage_peaks_df[cage_peaks_df[\"chromosome\"] == gene_coordinates[\"chromosome\"]]\n",
    "\n",
    "    # Ensure coordinates are integers\n",
    "    gene_start = int(gene_coordinates[\"start\"])\n",
    "    gene_end = int(gene_coordinates[\"end\"])\n",
    "\n",
    "    peaks_in_chromosome[\"start\"] = peaks_in_chromosome[\"start\"].astype(int)\n",
    "    peaks_in_chromosome[\"end\"] = peaks_in_chromosome[\"end\"].astype(int)\n",
    "\n",
    "    # Filter peaks that overlap the gene range\n",
    "    overlapping_peaks = peaks_in_chromosome[\n",
    "        (peaks_in_chromosome[\"start\"] >= gene_coordinates[\"start\"]) &\n",
    "        (peaks_in_chromosome[\"end\"] <= gene_coordinates[\"end\"])\n",
    "    ]\n",
    "\n",
    "    return overlapping_peaks"
   ]
  },
  {
   "cell_type": "code",
   "execution_count": 151,
   "id": "6b272986",
   "metadata": {},
   "outputs": [
    {
     "name": "stdout",
     "output_type": "stream",
     "text": [
      "Available columns in GTF: Index(['Chromosome', 'Source', 'Feature', 'Start', 'End', 'Score', 'Strand',\n",
      "       'Frame', 'gene_id', 'gene_version', 'gene_name', 'gene_source',\n",
      "       'gene_biotype', 'transcript_id', 'transcript_version',\n",
      "       'transcript_name', 'transcript_source', 'transcript_biotype',\n",
      "       'transcript_support_level', 'exon_number', 'exon_id', 'exon_version',\n",
      "       'protein_id', 'protein_version', 'tag', 'ccds_id'],\n",
      "      dtype='object')\n",
      "Extracted Gene Coordinates: {'gene_id': 'ENSMUSG00000025903', 'chromosome': '1', 'start': 4878010, 'end': 4918633}\n"
     ]
    }
   ],
   "source": [
    "# Example Usage\n",
    "gtf_path = \"/data/analysis/data_diamant/allos/allos/data/custom_subset.gtf\"\n",
    "transcript_id = \"ENSMUST00000134384\"\n",
    "gene_coordinates = get_gene_coordinates_from_gtf(gtf_path, \"ENSMUST00000134384\")\n",
    "print(\"Extracted Gene Coordinates:\", gene_coordinates)"
   ]
  },
  {
   "cell_type": "code",
   "execution_count": 152,
   "id": "4eec4e3b",
   "metadata": {},
   "outputs": [
    {
     "name": "stdout",
     "output_type": "stream",
     "text": [
      "Available columns in GTF: Index(['Chromosome', 'Source', 'Feature', 'Start', 'End', 'Score', 'Strand',\n",
      "       'Frame', 'gene_id', 'gene_version', 'gene_name', 'gene_source',\n",
      "       'gene_biotype', 'transcript_id', 'transcript_version',\n",
      "       'transcript_name', 'transcript_source', 'transcript_biotype',\n",
      "       'transcript_support_level', 'exon_number', 'exon_id', 'exon_version',\n",
      "       'protein_id', 'protein_version', 'tag', 'ccds_id'],\n",
      "      dtype='object')\n"
     ]
    },
    {
     "name": "stderr",
     "output_type": "stream",
     "text": [
      "/tmp/ipykernel_3974226/2903875487.py:3: DtypeWarning: Columns (1,2,4) have mixed types. Specify dtype option on import or set low_memory=False.\n",
      "  cage_peaks_df = pd.read_csv(cage_peaks_path, sep=\"\\t\", names=[\"chromosome\", \"start\", \"end\", \"refTSS_ID\", \"score\", \"strand\"])\n"
     ]
    }
   ],
   "source": [
    "cage_peaks_path = \"/data/analysis/data_diamant/allos/allos/data/refTSS_v4.1_mouse_coordinate.mm39.bed\"\n",
    "# Load CAGE peaks as a dataframe\n",
    "cage_peaks_df = pd.read_csv(cage_peaks_path, sep=\"\\t\", names=[\"chromosome\", \"start\", \"end\", \"refTSS_ID\", \"score\", \"strand\"])\n",
    "\n",
    "# Get gene coordinates from GTF\n",
    "gene_coordinates = get_gene_coordinates_from_gtf(gtf_path, transcript_id)\n"
   ]
  },
  {
   "cell_type": "code",
   "execution_count": 153,
   "id": "bc5a6110",
   "metadata": {},
   "outputs": [
    {
     "data": {
      "text/plain": [
       "{'gene_id': 'ENSMUSG00000025903',\n",
       " 'chromosome': '1',\n",
       " 'start': 4878010,\n",
       " 'end': 4918633}"
      ]
     },
     "execution_count": 153,
     "metadata": {},
     "output_type": "execute_result"
    }
   ],
   "source": [
    "gene_coordinates"
   ]
  },
  {
   "cell_type": "code",
   "execution_count": 154,
   "id": "6bd30ad6",
   "metadata": {},
   "outputs": [
    {
     "name": "stdout",
     "output_type": "stream",
     "text": [
      "✅ Chromosome formats are now consistent!\n"
     ]
    },
    {
     "name": "stderr",
     "output_type": "stream",
     "text": [
      "/tmp/ipykernel_3974226/1431948614.py:57: SettingWithCopyWarning: \n",
      "A value is trying to be set on a copy of a slice from a DataFrame.\n",
      "Try using .loc[row_indexer,col_indexer] = value instead\n",
      "\n",
      "See the caveats in the documentation: https://pandas.pydata.org/pandas-docs/stable/user_guide/indexing.html#returning-a-view-versus-a-copy\n",
      "  peaks_in_chromosome[\"start\"] = peaks_in_chromosome[\"start\"].astype(int)\n",
      "/tmp/ipykernel_3974226/1431948614.py:58: SettingWithCopyWarning: \n",
      "A value is trying to be set on a copy of a slice from a DataFrame.\n",
      "Try using .loc[row_indexer,col_indexer] = value instead\n",
      "\n",
      "See the caveats in the documentation: https://pandas.pydata.org/pandas-docs/stable/user_guide/indexing.html#returning-a-view-versus-a-copy\n",
      "  peaks_in_chromosome[\"end\"] = peaks_in_chromosome[\"end\"].astype(int)\n"
     ]
    },
    {
     "data": {
      "text/html": [
       "<div>\n",
       "<style scoped>\n",
       "    .dataframe tbody tr th:only-of-type {\n",
       "        vertical-align: middle;\n",
       "    }\n",
       "\n",
       "    .dataframe tbody tr th {\n",
       "        vertical-align: top;\n",
       "    }\n",
       "\n",
       "    .dataframe thead th {\n",
       "        text-align: right;\n",
       "    }\n",
       "</style>\n",
       "<table border=\"1\" class=\"dataframe\">\n",
       "  <thead>\n",
       "    <tr style=\"text-align: right;\">\n",
       "      <th></th>\n",
       "      <th>chromosome</th>\n",
       "      <th>start</th>\n",
       "      <th>end</th>\n",
       "      <th>refTSS_ID</th>\n",
       "      <th>score</th>\n",
       "      <th>strand</th>\n",
       "    </tr>\n",
       "  </thead>\n",
       "  <tbody>\n",
       "    <tr>\n",
       "      <th>38</th>\n",
       "      <td>chr1</td>\n",
       "      <td>4878070</td>\n",
       "      <td>4878151</td>\n",
       "      <td>rfmm_38.1</td>\n",
       "      <td>1</td>\n",
       "      <td>+</td>\n",
       "    </tr>\n",
       "    <tr>\n",
       "      <th>39</th>\n",
       "      <td>chr1</td>\n",
       "      <td>4878469</td>\n",
       "      <td>4878510</td>\n",
       "      <td>rfmm_39.1</td>\n",
       "      <td>1</td>\n",
       "      <td>+</td>\n",
       "    </tr>\n",
       "    <tr>\n",
       "      <th>40</th>\n",
       "      <td>chr1</td>\n",
       "      <td>4898798</td>\n",
       "      <td>4898839</td>\n",
       "      <td>rfmm_40.1</td>\n",
       "      <td>1</td>\n",
       "      <td>+</td>\n",
       "    </tr>\n",
       "    <tr>\n",
       "      <th>41</th>\n",
       "      <td>chr1</td>\n",
       "      <td>4915816</td>\n",
       "      <td>4915827</td>\n",
       "      <td>rfmm_41.1</td>\n",
       "      <td>1</td>\n",
       "      <td>+</td>\n",
       "    </tr>\n",
       "  </tbody>\n",
       "</table>\n",
       "</div>"
      ],
      "text/plain": [
       "   chromosome    start      end  refTSS_ID score strand\n",
       "38       chr1  4878070  4878151  rfmm_38.1     1      +\n",
       "39       chr1  4878469  4878510  rfmm_39.1     1      +\n",
       "40       chr1  4898798  4898839  rfmm_40.1     1      +\n",
       "41       chr1  4915816  4915827  rfmm_41.1     1      +"
      ]
     },
     "execution_count": 154,
     "metadata": {},
     "output_type": "execute_result"
    }
   ],
   "source": [
    "find_tss_in_gene_range(cage_peaks_df, gene_coordinates)"
   ]
  }
 ],
 "metadata": {
  "kernelspec": {
   "display_name": "allos",
   "language": "python",
   "name": "python3"
  },
  "language_info": {
   "codemirror_mode": {
    "name": "ipython",
    "version": 3
   },
   "file_extension": ".py",
   "mimetype": "text/x-python",
   "name": "python",
   "nbconvert_exporter": "python",
   "pygments_lexer": "ipython3",
   "version": "3.12.8"
  }
 },
 "nbformat": 4,
 "nbformat_minor": 5
}
