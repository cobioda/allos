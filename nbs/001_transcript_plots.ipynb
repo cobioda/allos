{
 "cells": [
  {
   "cell_type": "code",
   "execution_count": 1,
   "id": "abaf08f36060bbba",
   "metadata": {},
   "outputs": [],
   "source": [
    "#| hide\n",
    "from nbdev.showdoc import *\n",
    "from allos.color_palette import ghibli\n",
    "import os\n",
    "import requests\n",
    "import gzip\n",
    "import shutil"
   ]
  },
  {
   "cell_type": "markdown",
   "id": "58e2c23843c1a114",
   "metadata": {},
   "source": [
    "# Transcript plots\n",
    "> The TranscriptPlots class is defined to facilitate the visualization of transcript structures.\n",
    "\n",
    "The class can be initialized with GTF and FASTA files (optional but recommended for further analysis with Transcript Data module). If provided, it creates an instance of TranscriptData.\n",
    "\n",
    "Methods:\n",
    "- get_transcript_info: Retrieves detailed information about a specified transcript, including its ID, name, type, coding sequence (CDS) start and end positions, chromosome, and strand orientation.\n",
    "- draw_transcripts_list: Public method to draw a list of transcripts with optional color customization.\n",
    "- draw_transcripts_list_unscaled: Similar to draw_transcripts_list but plots transcripts without scaling their intron lengths proportionally to their genomic lengths, useful for transcipts with extremely long introns"
   ]
  },
  {
   "cell_type": "code",
   "execution_count": 2,
   "id": "9b873c4cbabc5169",
   "metadata": {},
   "outputs": [],
   "source": [
    "#| default_exp transcript_plots"
   ]
  },
  {
   "cell_type": "code",
   "execution_count": 3,
   "id": "initial_id",
   "metadata": {},
   "outputs": [],
   "source": [
    "#| export\n",
    "import numpy as np\n",
    "import requests\n",
    "import sys\n",
    "import matplotlib.pyplot as plt"
   ]
  },
  {
   "cell_type": "code",
   "execution_count": 4,
   "id": "3c05f3ea6565f746",
   "metadata": {},
   "outputs": [],
   "source": [
    "\n",
    "from allos.transcript_data import TranscriptData"
   ]
  },
  {
   "cell_type": "code",
   "execution_count": 5,
   "id": "e365d4f8336d010c",
   "metadata": {},
   "outputs": [],
   "source": [
    "import os\n",
    "import urllib.request\n",
    "from pathlib import Path"
   ]
  },
  {
   "cell_type": "code",
   "execution_count": 6,
   "id": "1b5e4d80",
   "metadata": {},
   "outputs": [],
   "source": [
    "from allos.transcript_data import TranscriptData"
   ]
  },
  {
   "cell_type": "code",
   "execution_count": 7,
   "id": "d2cb9d15",
   "metadata": {},
   "outputs": [],
   "source": [
    "#| export\n",
    "import sys, requests\n",
    "import numpy as np\n",
    "import matplotlib.pyplot as plt\n",
    "\n",
    "def merge_intervals(intervals):\n",
    "    \"\"\"Merge a list of [start, end] intervals.\"\"\"\n",
    "    if not intervals:\n",
    "        return []\n",
    "    intervals = sorted(intervals, key=lambda x: x[0])\n",
    "    merged = [intervals[0]]\n",
    "    for current in intervals[1:]:\n",
    "        prev = merged[-1]\n",
    "        if current[0] <= prev[1]:\n",
    "            merged[-1] = [prev[0], max(prev[1], current[1])]\n",
    "        else:\n",
    "            merged.append(current)\n",
    "    return merged\n",
    "\n",
    "class TranscriptPlots:\n",
    "    def __init__(self, gtf_file=None, reference_fasta=None, intron_scale=0.1):\n",
    "        \"\"\"\n",
    "        intron_scale: factor (between 0 and 1) by which intronic regions are compressed.\n",
    "        \"\"\"\n",
    "        self.transcript_data = None\n",
    "        self.intron_scale = intron_scale\n",
    "        self.colors = ['blue', 'green', 'orange', 'purple', 'brown']\n",
    "        if gtf_file is not None:\n",
    "            from allos.transcript_data import TranscriptData\n",
    "            self.transcript_data = TranscriptData(gtf_file=gtf_file, reference_fasta=reference_fasta)\n",
    "\n",
    "    def get_transcript_info(self, transcript_id):\n",
    "        if self.transcript_data is None:\n",
    "            raise NotImplementedError(\"Transcript info not available; please supply a GTF file.\")\n",
    "        else:\n",
    "            return self.transcript_data.get_transcript_info(transcript_id)\n",
    "\n",
    "    def _get_coord_from_tscrpt_id(self, transcript_id):\n",
    "        \"\"\"\n",
    "        Returns a tuple (exon_list, strand).\n",
    "        Each exon is stored as [end, start].\n",
    "        \"\"\"\n",
    "        if self.transcript_data is None:\n",
    "            if '.' in transcript_id:\n",
    "                transcript_id = transcript_id.split('.')[0]\n",
    "            server = \"https://rest.ensembl.org\"\n",
    "            ext = \"/lookup/id/\" + transcript_id + \"?expand=1\"\n",
    "            r = requests.get(server+ext, headers={\"Content-Type\": \"application/json\"})\n",
    "            if not r.ok:\n",
    "                r.raise_for_status()\n",
    "                sys.exit()\n",
    "            decoded = r.json()\n",
    "            exon_list = list(decoded['Exon'])\n",
    "            exon_coord = []\n",
    "            for e in exon_list:\n",
    "                exon_coord.append([e.get('end'), e.get('start')])\n",
    "            strand = decoded['strand']\n",
    "            return (exon_coord, strand)\n",
    "        else:\n",
    "            return self.transcript_data.get_exon_coords_and_strand(transcript_id)\n",
    "\n",
    "    def _make_global_mapping(self, all_exons):\n",
    "        \"\"\"\n",
    "        Build a mapping function f(x) that compresses introns but leaves exons at full length,\n",
    "        normalizing the entire region to [0..1].\n",
    "        \"\"\"\n",
    "        intervals = []\n",
    "        for exon_list in all_exons:\n",
    "            for e in exon_list:\n",
    "                s, e_ = min(e[0], e[1]), max(e[0], e[1])\n",
    "                intervals.append([s, e_])\n",
    "        union_exons = merge_intervals(intervals)\n",
    "        if not union_exons:\n",
    "            raise ValueError(\"No exonic intervals found.\")\n",
    "\n",
    "        global_start = min(i[0] for i in union_exons)\n",
    "        global_end   = max(i[1] for i in union_exons)\n",
    "\n",
    "        def exon_length_before(x):\n",
    "            total = 0\n",
    "            for (a, b) in union_exons:\n",
    "                if x <= a:\n",
    "                    break\n",
    "                total += min(b, x) - a\n",
    "            return total\n",
    "\n",
    "        def mapping_fn_unscaled(x):\n",
    "            # Introns are scaled by self.intron_scale, exons remain full length\n",
    "            # => f(x) = intron_scale*(x - global_start) + (1-intron_scale)*exonic_length_before(x)\n",
    "            total   = x - global_start\n",
    "            exonic  = exon_length_before(x)\n",
    "            return self.intron_scale * total + (1 - self.intron_scale) * exonic\n",
    "\n",
    "        # Normalize so that f(global_end) == 1\n",
    "        scaled_global_end = mapping_fn_unscaled(global_end)\n",
    "        def mapping_fn_normalized(x):\n",
    "            return mapping_fn_unscaled(x) / scaled_global_end\n",
    "\n",
    "        return mapping_fn_normalized\n",
    "\n",
    "    def _draw_transcript(self, exons, direction, color, transcript_name, mapping_fn,\n",
    "                         offset=0, with_cds=False):\n",
    "        \"\"\"\n",
    "        Draw the exons/introns in a single transcript using the global mapping_fn,\n",
    "        so everything lines up across transcripts with identical coordinates.\n",
    "        This version preserves the original exon shapes (including UTR/CDS splits on first and last exons)\n",
    "        but removes any special CDS coloring.\n",
    "        \"\"\"\n",
    "        height = 0.2\n",
    "        ax = plt.gca()\n",
    "        # Optimization: cache mapping_fn results to avoid redundant computations.\n",
    "        cache = {}\n",
    "        def cached_map(x):\n",
    "            if x not in cache:\n",
    "                cache[x] = mapping_fn(x)\n",
    "            return cache[x]\n",
    "\n",
    "        # For forward-stranded transcripts, exons are [end, start] with end < start.\n",
    "        # We'll pick indices so that j is 'left' and k is 'right' in genomic sense.\n",
    "        j, k = (0, 1) if direction == 1 else (1, 0)\n",
    "\n",
    "        # If we want to mark CDS regions, fetch them from the GTF-based data\n",
    "        if with_cds:\n",
    "            t_info = self.get_transcript_info(transcript_name)\n",
    "            cds_start, cds_end = t_info['cds_start'], t_info['cds_end']\n",
    "        else:\n",
    "            cds_start = cds_end = None\n",
    "\n",
    "        # Draw introns (lines between consecutive exons) with low zorder to ensure they are behind rectangles\n",
    "        for i in range(len(exons) - 1):\n",
    "            intron_start = cached_map(exons[i][j])\n",
    "            intron_end   = cached_map(exons[i + 1][k])\n",
    "            ax.plot([intron_start, intron_end],\n",
    "                    [offset + 0.1, offset + 0.1],\n",
    "                    color='black', linestyle='-', linewidth=1, zorder=0)\n",
    "\n",
    "        # Draw exons as rectangles with UTR/CDS differentiation when CDS info is available.\n",
    "        # The shapes remain as originally designed but the CDS segments are drawn with the base color.\n",
    "        for idx, exon in enumerate(exons):\n",
    "            exon_start_gen = exon[j]\n",
    "            exon_end_gen   = exon[k]\n",
    "            scaled_exon_start = cached_map(exon_start_gen)\n",
    "            scaled_exon_end   = cached_map(exon_end_gen)\n",
    "            width = scaled_exon_end - scaled_exon_start\n",
    "\n",
    "            base_color = color\n",
    "            base_edgecolor = 'black'\n",
    "\n",
    "            if with_cds and (cds_start is not None) and (cds_end is not None):\n",
    "                # Determine the true genomic bounds of the exon\n",
    "                left_exon = min(exon_start_gen, exon_end_gen)\n",
    "                right_exon = max(exon_start_gen, exon_end_gen)\n",
    "                # Calculate the CDS overlap with the exon\n",
    "                coding_left = max(left_exon, cds_start)\n",
    "                coding_right = min(right_exon, cds_end)\n",
    "                coding_exists = coding_left < coding_right\n",
    "\n",
    "                if idx == 0 or idx == len(exons) - 1:\n",
    "                    # For first and last exons, split into UTR and CDS portions if CDS is present\n",
    "                    if coding_exists:\n",
    "                        # Left UTR segment (if any)\n",
    "                        if left_exon < coding_left:\n",
    "                            scaled_utr_left = cached_map(left_exon)\n",
    "                            scaled_utr_right = cached_map(coding_left)\n",
    "                            utr_width = scaled_utr_right - scaled_utr_left\n",
    "                            utr_height = height * 0.6\n",
    "                            rect_utr = plt.Rectangle((scaled_utr_left, offset + (height - utr_height) / 2),\n",
    "                                                     utr_width, utr_height,\n",
    "                                                     fc=base_color, ec=base_edgecolor, zorder=1)\n",
    "                            ax.add_patch(rect_utr)\n",
    "                        # CDS segment with full height using the base color\n",
    "                        scaled_cds_left = cached_map(coding_left)\n",
    "                        scaled_cds_right = cached_map(coding_right)\n",
    "                        cds_width = scaled_cds_right - scaled_cds_left\n",
    "                        rect_cds = plt.Rectangle((scaled_cds_left, offset), cds_width, height,\n",
    "                                                 fc=base_color, ec=base_edgecolor, zorder=1)\n",
    "                        ax.add_patch(rect_cds)\n",
    "                        # Right UTR segment (if any)\n",
    "                        if coding_right < right_exon:\n",
    "                            scaled_utr_left = cached_map(coding_right)\n",
    "                            scaled_utr_right = cached_map(right_exon)\n",
    "                            utr_width = scaled_utr_right - scaled_utr_left\n",
    "                            utr_height = height * 0.6\n",
    "                            rect_utr = plt.Rectangle((scaled_utr_left, offset + (height - utr_height) / 2),\n",
    "                                                     utr_width, utr_height,\n",
    "                                                     fc=base_color, ec=base_edgecolor, zorder=1)\n",
    "                            ax.add_patch(rect_utr)\n",
    "                    else:\n",
    "                        # Entire exon is non-coding (UTR): draw as a smaller rectangle centered vertically\n",
    "                        rect = plt.Rectangle((scaled_exon_start, offset + (height - height * 0.6) / 2),\n",
    "                                             width, height * 0.6,\n",
    "                                             fc=base_color, ec=base_edgecolor, zorder=1)\n",
    "                        ax.add_patch(rect)\n",
    "                    continue  # Skip further processing for first/last exon\n",
    "\n",
    "                else:\n",
    "                    # For middle exons, use full height if coding exists and reduced height otherwise,\n",
    "                    # but always use the base color (removing the special CDS coloring).\n",
    "                    if coding_exists:\n",
    "                        rect = plt.Rectangle((scaled_exon_start, offset), width, height,\n",
    "                                             fc=base_color, ec=base_edgecolor, zorder=1)\n",
    "                    else:\n",
    "                        rect = plt.Rectangle((scaled_exon_start, offset), width, height * 0.6,\n",
    "                                             fc=base_color, ec=base_edgecolor, zorder=1)\n",
    "                    ax.add_patch(rect)\n",
    "                    continue\n",
    "            else:\n",
    "                # Without CDS information, draw the exon normally at full height.\n",
    "                rect = plt.Rectangle((scaled_exon_start, offset), width, height,\n",
    "                                     fc=base_color, ec=base_edgecolor, zorder=1)\n",
    "                ax.add_patch(rect)\n",
    "\n",
    "        # Draw an arrow to indicate transcript direction.\n",
    "        arrow_y = offset - height/4\n",
    "        if direction > 0:\n",
    "            ax.arrow(0, arrow_y, 1, 0, width=0.0015,\n",
    "                     head_length=0.01, head_width=0.1,\n",
    "                     length_includes_head=True, overhang=1, color='black')\n",
    "        else:\n",
    "            ax.arrow(1, arrow_y, -1, 0, width=0.0015,\n",
    "                     head_length=0.01, head_width=0.1,\n",
    "                     length_includes_head=True, overhang=1, color='black')\n",
    "\n",
    "        # Mark the transcript's genomic start/end in global coordinates.\n",
    "        if direction == 1:\n",
    "            real_start = exons[0][1]\n",
    "            real_end   = exons[-1][0]\n",
    "        else:\n",
    "            real_start = exons[-1][1]\n",
    "            real_end   = exons[0][0]\n",
    "\n",
    "        scaled_real_start = cached_map(real_start)\n",
    "        scaled_real_end   = cached_map(real_end)\n",
    "\n",
    "        # Tick marks and labels at the transcript ends.\n",
    "        ax.plot([scaled_real_start, scaled_real_start],\n",
    "                [arrow_y - 0.03, arrow_y + 0.03], color='black')\n",
    "        ax.plot([scaled_real_end, scaled_real_end],\n",
    "                [arrow_y - 0.03, arrow_y + 0.03], color='black')\n",
    "\n",
    "        ax.text(scaled_real_start, arrow_y - 0.06,\n",
    "                str(real_start), ha='center', va='top', fontsize=9)\n",
    "        ax.text(scaled_real_end, arrow_y - 0.06,\n",
    "                str(real_end), ha='center', va='top', fontsize=9)\n",
    "\n",
    "        # Transcript name at right edge.\n",
    "        ax.text(1, offset - height,\n",
    "                transcript_name, ha='right', va='top', fontsize=12)\n",
    "\n",
    "    def _draw_transcripts_list(self, transcripts_ids, _ax, colors=None, draw_cds=False):\n",
    "        \"\"\"\n",
    "        Draw multiple transcripts with the same global mapping,\n",
    "        ensuring that exons sharing coordinates line up perfectly.\n",
    "        \"\"\"\n",
    "        exons_list   = []\n",
    "        directions   = []\n",
    "        for tr in transcripts_ids:\n",
    "            t, d = self._get_coord_from_tscrpt_id(tr)\n",
    "            exons_list.append(t)\n",
    "            directions.append(d)\n",
    "\n",
    "        # Assign colors if none provided.\n",
    "        if colors is None:\n",
    "            colors = [self.colors[i % len(self.colors)] for i in range(len(exons_list))]\n",
    "\n",
    "        # Build a single global mapping function from all transcripts' exons.\n",
    "        mapping_fn = self._make_global_mapping(exons_list)\n",
    "\n",
    "        # Reset plotting settings to avoid artifacts.\n",
    "        plt.close('all')\n",
    "\n",
    "        # Set up figure with x in [0..1] and y sized by the number of transcripts.\n",
    "        plt.figure()\n",
    "        plt.axes()\n",
    "        plt.xlim(-0.05, 1.05)  # the mapping covers 0..1\n",
    "        plt.ylim((0.1 - 0.5 * len(exons_list), 0.3))\n",
    "        plt.margins(0.2)\n",
    "        plt.axis('off')\n",
    "\n",
    "        fig = plt.gcf()\n",
    "        fig.set_size_inches(20, len(exons_list) * 2)\n",
    "\n",
    "        # Draw each transcript in a separate 'row' (offset in the y direction).\n",
    "        for i, (ex, di, co, tid) in enumerate(zip(exons_list, directions, colors, transcripts_ids)):\n",
    "            offset = -0.5 * i\n",
    "            self._draw_transcript(ex, di, co, tid, mapping_fn,\n",
    "                                  offset=offset, with_cds=draw_cds)\n",
    "\n",
    "        if _ax is None:\n",
    "            plt.show()\n",
    "        else:\n",
    "            return plt\n",
    "\n",
    "    def draw_transcripts_list(self, transcripts_ids, colors=None, draw_cds=False):\n",
    "        \"\"\"\n",
    "        Public method to draw a list of transcripts with global intron scaling.\n",
    "        (Note: draw_cds requires GTF-based transcript_data to highlight CDS regions.)\n",
    "        \"\"\"\n",
    "        if draw_cds and self.transcript_data is None:\n",
    "            raise Exception('A GTF file is necessary in order to display the CDS region')\n",
    "        self._draw_transcripts_list(transcripts_ids, None, colors, draw_cds=draw_cds)\n",
    "\n",
    "    def draw_transcripts_list_unscaled(self, transcripts_ids, colors=None):\n",
    "        \"\"\"\n",
    "        For comparison: draw transcripts using exact genomic coordinates (no intron compression).\n",
    "        \"\"\"\n",
    "        exons_list = []\n",
    "        directions = []\n",
    "        for tr in transcripts_ids:\n",
    "            t, d = self._get_coord_from_tscrpt_id(tr)\n",
    "            exons_list.append(t)\n",
    "            directions.append(d)\n",
    "        if colors is None:\n",
    "            colors = [self.colors[i % len(self.colors)] for i in range(len(exons_list))]\n",
    "\n",
    "        intervals = []\n",
    "        for exon_list in exons_list:\n",
    "            for e in exon_list:\n",
    "                intervals.append([min(e[0], e[1]), max(e[0], e[1])])\n",
    "        union_exons = merge_intervals(intervals)\n",
    "        global_start = min(i[0] for i in union_exons)\n",
    "        global_end   = max(i[1] for i in union_exons)\n",
    "\n",
    "        # Linear mapping from genomic range to [0..1], no intron compression.\n",
    "        def linear_mapping(x):\n",
    "            return (x - global_start) / (global_end - global_start)\n",
    "\n",
    "        # Reset plotting settings to avoid artifacts.\n",
    "        plt.close('all')\n",
    "\n",
    "        plt.figure()\n",
    "        plt.axes()\n",
    "        plt.xlim(-0.05, 1.05)\n",
    "        plt.ylim((0.1 - 0.5 * len(exons_list), 0.3))\n",
    "        plt.margins(0.2)\n",
    "        plt.axis('off')\n",
    "        fig = plt.gcf()\n",
    "        fig.set_size_inches(20, len(exons_list) * 2)\n",
    "\n",
    "        for i, (ex, di, co, name) in enumerate(zip(exons_list, directions, colors, transcripts_ids)):\n",
    "            offset = -0.5 * i\n",
    "            self._draw_transcript(ex, di, co, name, linear_mapping, offset=offset, with_cds=False)\n",
    "        plt.show()\n"
   ]
  },
  {
   "cell_type": "code",
   "execution_count": 8,
   "id": "bf5f5647",
   "metadata": {},
   "outputs": [],
   "source": [
    "import os\n",
    "import urllib.request\n",
    "from pathlib import Path\n",
    "\n",
    "# Example Ensembl URLs for mouse GRCm39 (release 109)\n",
    "gtf_url = \"ftp://ftp.ensembl.org/pub/release-109/gtf/mus_musculus/Mus_musculus.GRCm39.109.gtf.gz\"\n",
    "fasta_url = \"ftp://ftp.ensembl.org/pub/release-109/fasta/mus_musculus/dna/Mus_musculus.GRCm39.dna.primary_assembly.fa.gz\"\n",
    "\n",
    "# Store data one directory back\n",
    "data_dir = Path(\"..\") / \"data\"\n",
    "data_dir.mkdir(parents=True, exist_ok=True)\n",
    "\n",
    "gtf_file_local = data_dir / \"Mus_musculus.GRCm39.109.gtf.gz\"\n",
    "fasta_file_local = data_dir / \"Mus_musculus.GRCm39.dna.primary_assembly.fa.gz\"\n",
    "\n",
    "# Download if not already present\n",
    "if not gtf_file_local.is_file():\n",
    "    print(f\"Downloading {gtf_url}...\")\n",
    "    urllib.request.urlretrieve(gtf_url, gtf_file_local)\n",
    "\n",
    "if not fasta_file_local.is_file():\n",
    "    print(f\"Downloading {fasta_url}...\")\n",
    "    urllib.request.urlretrieve(fasta_url, fasta_file_local)\n",
    "\n",
    "\n"
   ]
  },
  {
   "cell_type": "markdown",
   "id": "e5076db61b298eb",
   "metadata": {},
   "source": [
    "To initialise class:"
   ]
  },
  {
   "cell_type": "code",
   "execution_count": 9,
   "id": "55cfbcb0a0f402fd",
   "metadata": {},
   "outputs": [],
   "source": [
    "tp = TranscriptPlots(gtf_file=gtf_file_local)"
   ]
  },
  {
   "cell_type": "code",
   "execution_count": 10,
   "id": "d7e634e9537f5c59",
   "metadata": {},
   "outputs": [],
   "source": [
    "#| hide\n",
    "from allos.color_palette import ghibli"
   ]
  },
  {
   "cell_type": "code",
   "execution_count": 11,
   "id": "f8c555f2",
   "metadata": {},
   "outputs": [
    {
     "data": {
      "text/plain": [
       "{'transcript_id': 'ENSMUST00000044492',\n",
       " 'transcript_name': 'Akap9-201',\n",
       " 'transcript_type': 'unknown',\n",
       " 'cds_start': 3978442,\n",
       " 'cds_end': 4129693,\n",
       " 'chromosome': '5',\n",
       " 'strand': '+'}"
      ]
     },
     "execution_count": 11,
     "metadata": {},
     "output_type": "execute_result"
    }
   ],
   "source": [
    "tp.get_transcript_info('ENSMUST00000044492')"
   ]
  },
  {
   "cell_type": "markdown",
   "id": "79f930d95e113c5b",
   "metadata": {},
   "source": [
    "To plot a panel for one or several transcripts:"
   ]
  },
  {
   "cell_type": "code",
   "execution_count": 12,
   "id": "92bde4864f78003b",
   "metadata": {},
   "outputs": [
    {
     "data": {
      "image/png": "[encoded data removed]",
      "text/plain": [
       "<Figure size 2000x400 with 1 Axes>"
      ]
     },
     "metadata": {},
     "output_type": "display_data"
    }
   ],
   "source": [
    "tp.draw_transcripts_list(['ENSMUST00000044492', 'ENSMUST00000143365'], colors=ghibli, draw_cds=True)\n"
   ]
  },
  {
   "cell_type": "code",
   "execution_count": 13,
   "id": "d3e0210a",
   "metadata": {},
   "outputs": [],
   "source": [
    "#"
   ]
  },
  {
   "cell_type": "markdown",
   "id": "b3c5fa89c40ee4f",
   "metadata": {},
   "source": [
    "get_transcript_info helps to retrieve information about the transcripts of interest:"
   ]
  },
  {
   "cell_type": "code",
   "execution_count": 14,
   "id": "207dc620",
   "metadata": {},
   "outputs": [
    {
     "name": "stdout",
     "output_type": "stream",
     "text": [
      "        transcript_id transcript_name transcript_type  cds_start   cds_end  \\\n",
      "0  ENSMUST00000107851        Clta-205         unknown   44012791  44032569   \n",
      "1  ENSMUST00000107846        Clta-202         unknown   44012791  44032569   \n",
      "2  ENSMUST00000107847        Clta-203         unknown   44012791  44032569   \n",
      "\n",
      "  chromosome strand  \n",
      "0          4      +  \n",
      "1          4      +  \n",
      "2          4      +  \n"
     ]
    }
   ],
   "source": [
    "import pandas as pd  \n",
    "\n",
    "transcripts = [\"ENSMUST00000107851\", \"ENSMUST00000107846\", \"ENSMUST00000107847\"]\n",
    "transcripts_info = []\n",
    "\n",
    "for i in transcripts:\n",
    "    transcripts_info.append(tp.get_transcript_info(i))  # Append transcript info to list\n",
    "\n",
    "df = pd.DataFrame(transcripts_info)  # Convert list of dictionaries to DataFrame\n",
    "print(df)  # Display the DataFrame"
   ]
  },
  {
   "cell_type": "markdown",
   "id": "3f390d16408c0ceb",
   "metadata": {},
   "source": [
    "\"draw_transcript_list_unscaled\" keeps the structure of transcripts but shortens the introns. It is useful to compare the structure of\n",
    "transcipts with extremely long introns:"
   ]
  },
  {
   "cell_type": "code",
   "execution_count": 15,
   "id": "3324519c8dd46eaf",
   "metadata": {},
   "outputs": [
    {
     "data": {
      "image/png": "[encoded data removed]",
      "text/plain": [
       "<Figure size 2000x600 with 1 Axes>"
      ]
     },
     "metadata": {},
     "output_type": "display_data"
    }
   ],
   "source": [
    "tp.draw_transcripts_list_unscaled([\"ENSMUST00000107851\", \"ENSMUST00000107846\", \"ENSMUST00000107847\"], colors=ghibli)"
   ]
  },
  {
   "cell_type": "markdown",
   "id": "51877d3b49d99f69",
   "metadata": {},
   "source": [
    "If neither gtf nor fasta is provided, the transcripts can be provided as ensembl id and the coordinates will be fetched from ensembl api."
   ]
  },
  {
   "cell_type": "code",
   "execution_count": 16,
   "id": "ad46c572",
   "metadata": {},
   "outputs": [],
   "source": [
    "#cage_peaks = \"https://fantom.gsc.riken.jp/5/datafiles/reprocessed/mm10_latest/extra/CAGE_peaks/mm10_fair+new_CAGE_peaks_phase1and2.bed.gz\"\n",
    "cage_peaks = \"https://reftss.riken.jp/datafiles/current/mouse/refTSS_v4.1_mouse_coordinate.mm39.bed.gz\""
   ]
  },
  {
   "cell_type": "code",
   "execution_count": 17,
   "id": "b8a78264",
   "metadata": {},
   "outputs": [],
   "source": [
    "def download_and_extract_bed(url, local_folder):\n",
    "    \"\"\"\n",
    "    Downloads and extracts a BED file from a given URL if it doesn't already exist.\n",
    "    \n",
    "    Parameters:\n",
    "    - url (str): The URL of the `.bed.gz` file to download.\n",
    "    - local_folder (str): The folder where the file should be saved.\n",
    "    \n",
    "    Returns:\n",
    "    - str: Path to the extracted BED file.\n",
    "    \"\"\"\n",
    "    # Ensure local folder exists\n",
    "    os.makedirs(local_folder, exist_ok=True)\n",
    "\n",
    "    # Extract filename from URL\n",
    "    filename = os.path.basename(url)\n",
    "    compressed_file = os.path.join(local_folder, filename)\n",
    "    extracted_file = compressed_file.replace(\".gz\", \"\")\n",
    "\n",
    "    # Check if extracted file already exists\n",
    "    if os.path.exists(extracted_file):\n",
    "        print(f\"Extracted BED file already exists: {extracted_file}\")\n",
    "        return extracted_file\n",
    "\n",
    "    # Download if necessary\n",
    "    if not os.path.exists(compressed_file):\n",
    "        print(f\"Downloading {compressed_file}...\")\n",
    "        response = requests.get(url, stream=True)\n",
    "        with open(compressed_file, \"wb\") as f:\n",
    "            shutil.copyfileobj(response.raw, f)\n",
    "        print(\"Download complete.\")\n",
    "\n",
    "    # Extract the file\n",
    "    print(f\"Extracting {compressed_file}...\")\n",
    "    with gzip.open(compressed_file, \"rb\") as f_in, open(extracted_file, \"wb\") as f_out:\n",
    "        shutil.copyfileobj(f_in, f_out)\n",
    "    print(f\"Extraction complete: {extracted_file}\")\n",
    "\n",
    "    return extracted_file"
   ]
  },
  {
   "cell_type": "code",
   "execution_count": 18,
   "id": "f3ca0fc4",
   "metadata": {},
   "outputs": [
    {
     "name": "stdout",
     "output_type": "stream",
     "text": [
      "Extracted BED file already exists: ../data/refTSS_v4.1_mouse_coordinate.mm39.bed\n"
     ]
    }
   ],
   "source": [
    "cage_peaks = download_and_extract_bed(cage_peaks, \"../data/\")"
   ]
  },
  {
   "cell_type": "code",
   "execution_count": 19,
   "id": "6fd83fc1",
   "metadata": {},
   "outputs": [],
   "source": [
    "import pandas as pd\n",
    "#col_names = [\"chrom\", \"start\", \"end\", \"name\", \"score\", \"strand\"]\n",
    "cage_df = pd.read_csv(cage_peaks, sep=\"\\t\", comment='#')"
   ]
  },
  {
   "cell_type": "code",
   "execution_count": 20,
   "id": "11e7393f",
   "metadata": {},
   "outputs": [
    {
     "data": {
      "text/html": [
       "<div>\n",
       "<style scoped>\n",
       "    .dataframe tbody tr th:only-of-type {\n",
       "        vertical-align: middle;\n",
       "    }\n",
       "\n",
       "    .dataframe tbody tr th {\n",
       "        vertical-align: top;\n",
       "    }\n",
       "\n",
       "    .dataframe thead th {\n",
       "        text-align: right;\n",
       "    }\n",
       "</style>\n",
       "<table border=\"1\" class=\"dataframe\">\n",
       "  <thead>\n",
       "    <tr style=\"text-align: right;\">\n",
       "      <th></th>\n",
       "      <th>chromosome</th>\n",
       "      <th>start</th>\n",
       "      <th>end</th>\n",
       "      <th>refTSS_ID</th>\n",
       "      <th>score</th>\n",
       "      <th>strand</th>\n",
       "    </tr>\n",
       "  </thead>\n",
       "  <tbody>\n",
       "    <tr>\n",
       "      <th>0</th>\n",
       "      <td>chr1</td>\n",
       "      <td>3221101</td>\n",
       "      <td>3221109</td>\n",
       "      <td>rfmm_1.1</td>\n",
       "      <td>1</td>\n",
       "      <td>+</td>\n",
       "    </tr>\n",
       "    <tr>\n",
       "      <th>1</th>\n",
       "      <td>chr1</td>\n",
       "      <td>3226272</td>\n",
       "      <td>3226277</td>\n",
       "      <td>rfmm_2.1</td>\n",
       "      <td>1</td>\n",
       "      <td>+</td>\n",
       "    </tr>\n",
       "    <tr>\n",
       "      <th>2</th>\n",
       "      <td>chr1</td>\n",
       "      <td>3389727</td>\n",
       "      <td>3389730</td>\n",
       "      <td>rfmm_3.1</td>\n",
       "      <td>1</td>\n",
       "      <td>-</td>\n",
       "    </tr>\n",
       "    <tr>\n",
       "      <th>3</th>\n",
       "      <td>chr1</td>\n",
       "      <td>3448009</td>\n",
       "      <td>3448012</td>\n",
       "      <td>rfmm_4.1</td>\n",
       "      <td>1</td>\n",
       "      <td>-</td>\n",
       "    </tr>\n",
       "    <tr>\n",
       "      <th>4</th>\n",
       "      <td>chr1</td>\n",
       "      <td>3559372</td>\n",
       "      <td>3559376</td>\n",
       "      <td>rfmm_5.1</td>\n",
       "      <td>1</td>\n",
       "      <td>-</td>\n",
       "    </tr>\n",
       "    <tr>\n",
       "      <th>...</th>\n",
       "      <td>...</td>\n",
       "      <td>...</td>\n",
       "      <td>...</td>\n",
       "      <td>...</td>\n",
       "      <td>...</td>\n",
       "      <td>...</td>\n",
       "    </tr>\n",
       "    <tr>\n",
       "      <th>172319</th>\n",
       "      <td>chrY</td>\n",
       "      <td>90831164</td>\n",
       "      <td>90831167</td>\n",
       "      <td>rfmm_172320.1</td>\n",
       "      <td>1</td>\n",
       "      <td>+</td>\n",
       "    </tr>\n",
       "    <tr>\n",
       "      <th>172320</th>\n",
       "      <td>chrY</td>\n",
       "      <td>90831173</td>\n",
       "      <td>90831188</td>\n",
       "      <td>rfmm_172321.1</td>\n",
       "      <td>1</td>\n",
       "      <td>+</td>\n",
       "    </tr>\n",
       "    <tr>\n",
       "      <th>172321</th>\n",
       "      <td>chrY</td>\n",
       "      <td>90831968</td>\n",
       "      <td>90831970</td>\n",
       "      <td>rfmm_172322.1</td>\n",
       "      <td>1</td>\n",
       "      <td>+</td>\n",
       "    </tr>\n",
       "    <tr>\n",
       "      <th>172322</th>\n",
       "      <td>chrY</td>\n",
       "      <td>90836575</td>\n",
       "      <td>90836577</td>\n",
       "      <td>rfmm_172323.1</td>\n",
       "      <td>1</td>\n",
       "      <td>-</td>\n",
       "    </tr>\n",
       "    <tr>\n",
       "      <th>172323</th>\n",
       "      <td>chrY</td>\n",
       "      <td>90839978</td>\n",
       "      <td>90840019</td>\n",
       "      <td>rfmm_172324.1</td>\n",
       "      <td>1</td>\n",
       "      <td>-</td>\n",
       "    </tr>\n",
       "  </tbody>\n",
       "</table>\n",
       "<p>172324 rows × 6 columns</p>\n",
       "</div>"
      ],
      "text/plain": [
       "       chromosome     start       end      refTSS_ID  score strand\n",
       "0            chr1   3221101   3221109       rfmm_1.1      1      +\n",
       "1            chr1   3226272   3226277       rfmm_2.1      1      +\n",
       "2            chr1   3389727   3389730       rfmm_3.1      1      -\n",
       "3            chr1   3448009   3448012       rfmm_4.1      1      -\n",
       "4            chr1   3559372   3559376       rfmm_5.1      1      -\n",
       "...           ...       ...       ...            ...    ...    ...\n",
       "172319       chrY  90831164  90831167  rfmm_172320.1      1      +\n",
       "172320       chrY  90831173  90831188  rfmm_172321.1      1      +\n",
       "172321       chrY  90831968  90831970  rfmm_172322.1      1      +\n",
       "172322       chrY  90836575  90836577  rfmm_172323.1      1      -\n",
       "172323       chrY  90839978  90840019  rfmm_172324.1      1      -\n",
       "\n",
       "[172324 rows x 6 columns]"
      ]
     },
     "execution_count": 20,
     "metadata": {},
     "output_type": "execute_result"
    }
   ],
   "source": [
    "cage_df"
   ]
  },
  {
   "cell_type": "code",
   "execution_count": 21,
   "id": "382ea949",
   "metadata": {},
   "outputs": [],
   "source": [
    "# find the tss that overlap with the gene coordinates:\n",
    "# get the coordinates of plot transcript panel, find the tss coordinates \n",
    "# that are inside these limits (pos_end, pos_start in _draw_transcript):\n"
   ]
  },
  {
   "cell_type": "code",
   "execution_count": 22,
   "id": "a1855a4d",
   "metadata": {},
   "outputs": [],
   "source": [
    "def extract_genes_from_gtf(gtf_gz_path, output_gtf, gene_ids):\n",
    "    \"\"\"\n",
    "    Extracts specified genes from a GTF file inside a .gz archive and writes a new GTF file.\n",
    "\n",
    "    Parameters:\n",
    "    - gtf_gz_path (str): Path to the original GTF .gz file.\n",
    "    - output_gtf (str): Path for the new GTF file.\n",
    "    - gene_ids (list): List of gene IDs to extract (e.g., [\"ENSMUSG00000025902\", \"ENSMUSG00000025903\"]).\n",
    "    \"\"\"\n",
    "    extracted_gtf_path = gtf_gz_path.rstrip(\".gz\")  # Remove .gz extension for the extracted file\n",
    "\n",
    "    # Check if extracted file already exists\n",
    "    from pathlib import Path\n",
    "    if not Path(extracted_gtf_path).exists():\n",
    "        print(f\"🔄 Extracting {gtf_gz_path}...\")\n",
    "        with gzip.open(gtf_gz_path, \"rt\") as gz_file, open(extracted_gtf_path, \"w\") as out_file:\n",
    "            shutil.copyfileobj(gz_file, out_file)\n",
    "        print(f\"✅ Extracted: {extracted_gtf_path}\")\n",
    "    else:\n",
    "        print(f\"📂 Using existing extracted file: {extracted_gtf_path}\")\n",
    "\n",
    "    # Read the extracted GTF file, skipping comment lines\n",
    "    gtf = pd.read_csv(extracted_gtf_path, sep=\"\\t\", comment='#', header=None, dtype=str)\n",
    "\n",
    "    # GTF column names based on Ensembl/Gencode format\n",
    "    gtf.columns = [\n",
    "        \"seqname\", \"source\", \"feature\", \"start\", \"end\", \"score\",\n",
    "        \"strand\", \"frame\", \"attribute\"\n",
    "    ]\n",
    "\n",
    "    # Extract gene IDs from the 'attribute' column\n",
    "    def get_gene_id(attribute):\n",
    "        for entry in attribute.split(\";\"):\n",
    "            entry = entry.strip()\n",
    "            if entry.startswith(\"gene_id\"):\n",
    "                return entry.split(\" \")[1].strip('\"')\n",
    "        return None\n",
    "\n",
    "    # Filter GTF for the selected genes\n",
    "    gtf[\"gene_id\"] = gtf[\"attribute\"].apply(get_gene_id)\n",
    "    filtered_gtf = gtf[gtf[\"gene_id\"].isin(gene_ids)].drop(columns=[\"gene_id\"])\n",
    "\n",
    "    # Save to new GTF file\n",
    "    filtered_gtf.to_csv(output_gtf, sep=\"\\t\", index=False, header=False, quoting=3)\n",
    "\n",
    "    print(f\"✅ Extracted {len(filtered_gtf)} entries for {len(gene_ids)} genes into {output_gtf}\")\n"
   ]
  },
  {
   "cell_type": "code",
   "execution_count": 23,
   "id": "e5d53b09",
   "metadata": {},
   "outputs": [
    {
     "name": "stdout",
     "output_type": "stream",
     "text": [
      "📂 Using existing extracted file: /data/analysis/data_diamant/allos/allos/data/Mus_musculus.GRCm39.109.gtf\n"
     ]
    },
    {
     "ename": "PermissionError",
     "evalue": "[Errno 13] Permission denied: '/data/analysis/data_diamant/allos/allos/data/custom_subset.gtf'",
     "output_type": "error",
     "traceback": [
      "\u001b[0;31m---------------------------------------------------------------------------\u001b[0m",
      "\u001b[0;31mPermissionError\u001b[0m                           Traceback (most recent call last)",
      "Cell \u001b[0;32mIn[23], line 5\u001b[0m\n\u001b[1;32m      2\u001b[0m custom_gtf \u001b[38;5;241m=\u001b[39m \u001b[38;5;124m\"\u001b[39m\u001b[38;5;124m/data/analysis/data_diamant/allos/allos/data/custom_subset.gtf\u001b[39m\u001b[38;5;124m\"\u001b[39m\n\u001b[1;32m      3\u001b[0m selected_genes \u001b[38;5;241m=\u001b[39m [\u001b[38;5;124m\"\u001b[39m\u001b[38;5;124mENSMUSG00000028478\u001b[39m\u001b[38;5;124m\"\u001b[39m, \u001b[38;5;124m\"\u001b[39m\u001b[38;5;124mENSMUSG00000025903\u001b[39m\u001b[38;5;124m\"\u001b[39m]  \u001b[38;5;66;03m# Replace with your genes of interest\u001b[39;00m\n\u001b[0;32m----> 5\u001b[0m \u001b[43mextract_genes_from_gtf\u001b[49m\u001b[43m(\u001b[49m\u001b[43mbig_gtf\u001b[49m\u001b[43m,\u001b[49m\u001b[43m \u001b[49m\u001b[43mcustom_gtf\u001b[49m\u001b[43m,\u001b[49m\u001b[43m \u001b[49m\u001b[43mselected_genes\u001b[49m\u001b[43m)\u001b[49m\n",
      "Cell \u001b[0;32mIn[22], line 44\u001b[0m, in \u001b[0;36mextract_genes_from_gtf\u001b[0;34m(gtf_gz_path, output_gtf, gene_ids)\u001b[0m\n\u001b[1;32m     41\u001b[0m filtered_gtf \u001b[38;5;241m=\u001b[39m gtf[gtf[\u001b[38;5;124m\"\u001b[39m\u001b[38;5;124mgene_id\u001b[39m\u001b[38;5;124m\"\u001b[39m]\u001b[38;5;241m.\u001b[39misin(gene_ids)]\u001b[38;5;241m.\u001b[39mdrop(columns\u001b[38;5;241m=\u001b[39m[\u001b[38;5;124m\"\u001b[39m\u001b[38;5;124mgene_id\u001b[39m\u001b[38;5;124m\"\u001b[39m])\n\u001b[1;32m     43\u001b[0m \u001b[38;5;66;03m# Save to new GTF file\u001b[39;00m\n\u001b[0;32m---> 44\u001b[0m \u001b[43mfiltered_gtf\u001b[49m\u001b[38;5;241;43m.\u001b[39;49m\u001b[43mto_csv\u001b[49m\u001b[43m(\u001b[49m\u001b[43moutput_gtf\u001b[49m\u001b[43m,\u001b[49m\u001b[43m \u001b[49m\u001b[43msep\u001b[49m\u001b[38;5;241;43m=\u001b[39;49m\u001b[38;5;124;43m\"\u001b[39;49m\u001b[38;5;130;43;01m\\t\u001b[39;49;00m\u001b[38;5;124;43m\"\u001b[39;49m\u001b[43m,\u001b[49m\u001b[43m \u001b[49m\u001b[43mindex\u001b[49m\u001b[38;5;241;43m=\u001b[39;49m\u001b[38;5;28;43;01mFalse\u001b[39;49;00m\u001b[43m,\u001b[49m\u001b[43m \u001b[49m\u001b[43mheader\u001b[49m\u001b[38;5;241;43m=\u001b[39;49m\u001b[38;5;28;43;01mFalse\u001b[39;49;00m\u001b[43m,\u001b[49m\u001b[43m \u001b[49m\u001b[43mquoting\u001b[49m\u001b[38;5;241;43m=\u001b[39;49m\u001b[38;5;241;43m3\u001b[39;49m\u001b[43m)\u001b[49m\n\u001b[1;32m     46\u001b[0m \u001b[38;5;28mprint\u001b[39m(\u001b[38;5;124mf\u001b[39m\u001b[38;5;124m\"\u001b[39m\u001b[38;5;124m✅ Extracted \u001b[39m\u001b[38;5;132;01m{\u001b[39;00m\u001b[38;5;28mlen\u001b[39m(filtered_gtf)\u001b[38;5;132;01m}\u001b[39;00m\u001b[38;5;124m entries for \u001b[39m\u001b[38;5;132;01m{\u001b[39;00m\u001b[38;5;28mlen\u001b[39m(gene_ids)\u001b[38;5;132;01m}\u001b[39;00m\u001b[38;5;124m genes into \u001b[39m\u001b[38;5;132;01m{\u001b[39;00moutput_gtf\u001b[38;5;132;01m}\u001b[39;00m\u001b[38;5;124m\"\u001b[39m)\n",
      "File \u001b[0;32m/data/analysis/data_mcandrew/Allos_new/allos_env/lib/python3.9/site-packages/pandas/util/_decorators.py:333\u001b[0m, in \u001b[0;36mdeprecate_nonkeyword_arguments.<locals>.decorate.<locals>.wrapper\u001b[0;34m(*args, **kwargs)\u001b[0m\n\u001b[1;32m    327\u001b[0m \u001b[38;5;28;01mif\u001b[39;00m \u001b[38;5;28mlen\u001b[39m(args) \u001b[38;5;241m>\u001b[39m num_allow_args:\n\u001b[1;32m    328\u001b[0m     warnings\u001b[38;5;241m.\u001b[39mwarn(\n\u001b[1;32m    329\u001b[0m         msg\u001b[38;5;241m.\u001b[39mformat(arguments\u001b[38;5;241m=\u001b[39m_format_argument_list(allow_args)),\n\u001b[1;32m    330\u001b[0m         \u001b[38;5;167;01mFutureWarning\u001b[39;00m,\n\u001b[1;32m    331\u001b[0m         stacklevel\u001b[38;5;241m=\u001b[39mfind_stack_level(),\n\u001b[1;32m    332\u001b[0m     )\n\u001b[0;32m--> 333\u001b[0m \u001b[38;5;28;01mreturn\u001b[39;00m \u001b[43mfunc\u001b[49m\u001b[43m(\u001b[49m\u001b[38;5;241;43m*\u001b[39;49m\u001b[43margs\u001b[49m\u001b[43m,\u001b[49m\u001b[43m \u001b[49m\u001b[38;5;241;43m*\u001b[39;49m\u001b[38;5;241;43m*\u001b[39;49m\u001b[43mkwargs\u001b[49m\u001b[43m)\u001b[49m\n",
      "File \u001b[0;32m/data/analysis/data_mcandrew/Allos_new/allos_env/lib/python3.9/site-packages/pandas/core/generic.py:3967\u001b[0m, in \u001b[0;36mNDFrame.to_csv\u001b[0;34m(self, path_or_buf, sep, na_rep, float_format, columns, header, index, index_label, mode, encoding, compression, quoting, quotechar, lineterminator, chunksize, date_format, doublequote, escapechar, decimal, errors, storage_options)\u001b[0m\n\u001b[1;32m   3956\u001b[0m df \u001b[38;5;241m=\u001b[39m \u001b[38;5;28mself\u001b[39m \u001b[38;5;28;01mif\u001b[39;00m \u001b[38;5;28misinstance\u001b[39m(\u001b[38;5;28mself\u001b[39m, ABCDataFrame) \u001b[38;5;28;01melse\u001b[39;00m \u001b[38;5;28mself\u001b[39m\u001b[38;5;241m.\u001b[39mto_frame()\n\u001b[1;32m   3958\u001b[0m formatter \u001b[38;5;241m=\u001b[39m DataFrameFormatter(\n\u001b[1;32m   3959\u001b[0m     frame\u001b[38;5;241m=\u001b[39mdf,\n\u001b[1;32m   3960\u001b[0m     header\u001b[38;5;241m=\u001b[39mheader,\n\u001b[0;32m   (...)\u001b[0m\n\u001b[1;32m   3964\u001b[0m     decimal\u001b[38;5;241m=\u001b[39mdecimal,\n\u001b[1;32m   3965\u001b[0m )\n\u001b[0;32m-> 3967\u001b[0m \u001b[38;5;28;01mreturn\u001b[39;00m \u001b[43mDataFrameRenderer\u001b[49m\u001b[43m(\u001b[49m\u001b[43mformatter\u001b[49m\u001b[43m)\u001b[49m\u001b[38;5;241;43m.\u001b[39;49m\u001b[43mto_csv\u001b[49m\u001b[43m(\u001b[49m\n\u001b[1;32m   3968\u001b[0m \u001b[43m    \u001b[49m\u001b[43mpath_or_buf\u001b[49m\u001b[43m,\u001b[49m\n\u001b[1;32m   3969\u001b[0m \u001b[43m    \u001b[49m\u001b[43mlineterminator\u001b[49m\u001b[38;5;241;43m=\u001b[39;49m\u001b[43mlineterminator\u001b[49m\u001b[43m,\u001b[49m\n\u001b[1;32m   3970\u001b[0m \u001b[43m    \u001b[49m\u001b[43msep\u001b[49m\u001b[38;5;241;43m=\u001b[39;49m\u001b[43msep\u001b[49m\u001b[43m,\u001b[49m\n\u001b[1;32m   3971\u001b[0m \u001b[43m    \u001b[49m\u001b[43mencoding\u001b[49m\u001b[38;5;241;43m=\u001b[39;49m\u001b[43mencoding\u001b[49m\u001b[43m,\u001b[49m\n\u001b[1;32m   3972\u001b[0m \u001b[43m    \u001b[49m\u001b[43merrors\u001b[49m\u001b[38;5;241;43m=\u001b[39;49m\u001b[43merrors\u001b[49m\u001b[43m,\u001b[49m\n\u001b[1;32m   3973\u001b[0m \u001b[43m    \u001b[49m\u001b[43mcompression\u001b[49m\u001b[38;5;241;43m=\u001b[39;49m\u001b[43mcompression\u001b[49m\u001b[43m,\u001b[49m\n\u001b[1;32m   3974\u001b[0m \u001b[43m    \u001b[49m\u001b[43mquoting\u001b[49m\u001b[38;5;241;43m=\u001b[39;49m\u001b[43mquoting\u001b[49m\u001b[43m,\u001b[49m\n\u001b[1;32m   3975\u001b[0m \u001b[43m    \u001b[49m\u001b[43mcolumns\u001b[49m\u001b[38;5;241;43m=\u001b[39;49m\u001b[43mcolumns\u001b[49m\u001b[43m,\u001b[49m\n\u001b[1;32m   3976\u001b[0m \u001b[43m    \u001b[49m\u001b[43mindex_label\u001b[49m\u001b[38;5;241;43m=\u001b[39;49m\u001b[43mindex_label\u001b[49m\u001b[43m,\u001b[49m\n\u001b[1;32m   3977\u001b[0m \u001b[43m    \u001b[49m\u001b[43mmode\u001b[49m\u001b[38;5;241;43m=\u001b[39;49m\u001b[43mmode\u001b[49m\u001b[43m,\u001b[49m\n\u001b[1;32m   3978\u001b[0m \u001b[43m    \u001b[49m\u001b[43mchunksize\u001b[49m\u001b[38;5;241;43m=\u001b[39;49m\u001b[43mchunksize\u001b[49m\u001b[43m,\u001b[49m\n\u001b[1;32m   3979\u001b[0m \u001b[43m    \u001b[49m\u001b[43mquotechar\u001b[49m\u001b[38;5;241;43m=\u001b[39;49m\u001b[43mquotechar\u001b[49m\u001b[43m,\u001b[49m\n\u001b[1;32m   3980\u001b[0m \u001b[43m    \u001b[49m\u001b[43mdate_format\u001b[49m\u001b[38;5;241;43m=\u001b[39;49m\u001b[43mdate_format\u001b[49m\u001b[43m,\u001b[49m\n\u001b[1;32m   3981\u001b[0m \u001b[43m    \u001b[49m\u001b[43mdoublequote\u001b[49m\u001b[38;5;241;43m=\u001b[39;49m\u001b[43mdoublequote\u001b[49m\u001b[43m,\u001b[49m\n\u001b[1;32m   3982\u001b[0m \u001b[43m    \u001b[49m\u001b[43mescapechar\u001b[49m\u001b[38;5;241;43m=\u001b[39;49m\u001b[43mescapechar\u001b[49m\u001b[43m,\u001b[49m\n\u001b[1;32m   3983\u001b[0m \u001b[43m    \u001b[49m\u001b[43mstorage_options\u001b[49m\u001b[38;5;241;43m=\u001b[39;49m\u001b[43mstorage_options\u001b[49m\u001b[43m,\u001b[49m\n\u001b[1;32m   3984\u001b[0m \u001b[43m\u001b[49m\u001b[43m)\u001b[49m\n",
      "File \u001b[0;32m/data/analysis/data_mcandrew/Allos_new/allos_env/lib/python3.9/site-packages/pandas/io/formats/format.py:1014\u001b[0m, in \u001b[0;36mDataFrameRenderer.to_csv\u001b[0;34m(self, path_or_buf, encoding, sep, columns, index_label, mode, compression, quoting, quotechar, lineterminator, chunksize, date_format, doublequote, escapechar, errors, storage_options)\u001b[0m\n\u001b[1;32m    993\u001b[0m     created_buffer \u001b[38;5;241m=\u001b[39m \u001b[38;5;28;01mFalse\u001b[39;00m\n\u001b[1;32m    995\u001b[0m csv_formatter \u001b[38;5;241m=\u001b[39m CSVFormatter(\n\u001b[1;32m    996\u001b[0m     path_or_buf\u001b[38;5;241m=\u001b[39mpath_or_buf,\n\u001b[1;32m    997\u001b[0m     lineterminator\u001b[38;5;241m=\u001b[39mlineterminator,\n\u001b[0;32m   (...)\u001b[0m\n\u001b[1;32m   1012\u001b[0m     formatter\u001b[38;5;241m=\u001b[39m\u001b[38;5;28mself\u001b[39m\u001b[38;5;241m.\u001b[39mfmt,\n\u001b[1;32m   1013\u001b[0m )\n\u001b[0;32m-> 1014\u001b[0m \u001b[43mcsv_formatter\u001b[49m\u001b[38;5;241;43m.\u001b[39;49m\u001b[43msave\u001b[49m\u001b[43m(\u001b[49m\u001b[43m)\u001b[49m\n\u001b[1;32m   1016\u001b[0m \u001b[38;5;28;01mif\u001b[39;00m created_buffer:\n\u001b[1;32m   1017\u001b[0m     \u001b[38;5;28;01massert\u001b[39;00m \u001b[38;5;28misinstance\u001b[39m(path_or_buf, StringIO)\n",
      "File \u001b[0;32m/data/analysis/data_mcandrew/Allos_new/allos_env/lib/python3.9/site-packages/pandas/io/formats/csvs.py:251\u001b[0m, in \u001b[0;36mCSVFormatter.save\u001b[0;34m(self)\u001b[0m\n\u001b[1;32m    247\u001b[0m \u001b[38;5;250m\u001b[39m\u001b[38;5;124;03m\"\"\"\u001b[39;00m\n\u001b[1;32m    248\u001b[0m \u001b[38;5;124;03mCreate the writer & save.\u001b[39;00m\n\u001b[1;32m    249\u001b[0m \u001b[38;5;124;03m\"\"\"\u001b[39;00m\n\u001b[1;32m    250\u001b[0m \u001b[38;5;66;03m# apply compression and byte/text conversion\u001b[39;00m\n\u001b[0;32m--> 251\u001b[0m \u001b[38;5;28;01mwith\u001b[39;00m \u001b[43mget_handle\u001b[49m\u001b[43m(\u001b[49m\n\u001b[1;32m    252\u001b[0m \u001b[43m    \u001b[49m\u001b[38;5;28;43mself\u001b[39;49m\u001b[38;5;241;43m.\u001b[39;49m\u001b[43mfilepath_or_buffer\u001b[49m\u001b[43m,\u001b[49m\n\u001b[1;32m    253\u001b[0m \u001b[43m    \u001b[49m\u001b[38;5;28;43mself\u001b[39;49m\u001b[38;5;241;43m.\u001b[39;49m\u001b[43mmode\u001b[49m\u001b[43m,\u001b[49m\n\u001b[1;32m    254\u001b[0m \u001b[43m    \u001b[49m\u001b[43mencoding\u001b[49m\u001b[38;5;241;43m=\u001b[39;49m\u001b[38;5;28;43mself\u001b[39;49m\u001b[38;5;241;43m.\u001b[39;49m\u001b[43mencoding\u001b[49m\u001b[43m,\u001b[49m\n\u001b[1;32m    255\u001b[0m \u001b[43m    \u001b[49m\u001b[43merrors\u001b[49m\u001b[38;5;241;43m=\u001b[39;49m\u001b[38;5;28;43mself\u001b[39;49m\u001b[38;5;241;43m.\u001b[39;49m\u001b[43merrors\u001b[49m\u001b[43m,\u001b[49m\n\u001b[1;32m    256\u001b[0m \u001b[43m    \u001b[49m\u001b[43mcompression\u001b[49m\u001b[38;5;241;43m=\u001b[39;49m\u001b[38;5;28;43mself\u001b[39;49m\u001b[38;5;241;43m.\u001b[39;49m\u001b[43mcompression\u001b[49m\u001b[43m,\u001b[49m\n\u001b[1;32m    257\u001b[0m \u001b[43m    \u001b[49m\u001b[43mstorage_options\u001b[49m\u001b[38;5;241;43m=\u001b[39;49m\u001b[38;5;28;43mself\u001b[39;49m\u001b[38;5;241;43m.\u001b[39;49m\u001b[43mstorage_options\u001b[49m\u001b[43m,\u001b[49m\n\u001b[1;32m    258\u001b[0m \u001b[43m\u001b[49m\u001b[43m)\u001b[49m \u001b[38;5;28;01mas\u001b[39;00m handles:\n\u001b[1;32m    259\u001b[0m     \u001b[38;5;66;03m# Note: self.encoding is irrelevant here\u001b[39;00m\n\u001b[1;32m    260\u001b[0m     \u001b[38;5;28mself\u001b[39m\u001b[38;5;241m.\u001b[39mwriter \u001b[38;5;241m=\u001b[39m csvlib\u001b[38;5;241m.\u001b[39mwriter(\n\u001b[1;32m    261\u001b[0m         handles\u001b[38;5;241m.\u001b[39mhandle,\n\u001b[1;32m    262\u001b[0m         lineterminator\u001b[38;5;241m=\u001b[39m\u001b[38;5;28mself\u001b[39m\u001b[38;5;241m.\u001b[39mlineterminator,\n\u001b[0;32m   (...)\u001b[0m\n\u001b[1;32m    267\u001b[0m         quotechar\u001b[38;5;241m=\u001b[39m\u001b[38;5;28mself\u001b[39m\u001b[38;5;241m.\u001b[39mquotechar,\n\u001b[1;32m    268\u001b[0m     )\n\u001b[1;32m    270\u001b[0m     \u001b[38;5;28mself\u001b[39m\u001b[38;5;241m.\u001b[39m_save()\n",
      "File \u001b[0;32m/data/analysis/data_mcandrew/Allos_new/allos_env/lib/python3.9/site-packages/pandas/io/common.py:873\u001b[0m, in \u001b[0;36mget_handle\u001b[0;34m(path_or_buf, mode, encoding, compression, memory_map, is_text, errors, storage_options)\u001b[0m\n\u001b[1;32m    868\u001b[0m \u001b[38;5;28;01melif\u001b[39;00m \u001b[38;5;28misinstance\u001b[39m(handle, \u001b[38;5;28mstr\u001b[39m):\n\u001b[1;32m    869\u001b[0m     \u001b[38;5;66;03m# Check whether the filename is to be opened in binary mode.\u001b[39;00m\n\u001b[1;32m    870\u001b[0m     \u001b[38;5;66;03m# Binary mode does not support 'encoding' and 'newline'.\u001b[39;00m\n\u001b[1;32m    871\u001b[0m     \u001b[38;5;28;01mif\u001b[39;00m ioargs\u001b[38;5;241m.\u001b[39mencoding \u001b[38;5;129;01mand\u001b[39;00m \u001b[38;5;124m\"\u001b[39m\u001b[38;5;124mb\u001b[39m\u001b[38;5;124m\"\u001b[39m \u001b[38;5;129;01mnot\u001b[39;00m \u001b[38;5;129;01min\u001b[39;00m ioargs\u001b[38;5;241m.\u001b[39mmode:\n\u001b[1;32m    872\u001b[0m         \u001b[38;5;66;03m# Encoding\u001b[39;00m\n\u001b[0;32m--> 873\u001b[0m         handle \u001b[38;5;241m=\u001b[39m \u001b[38;5;28;43mopen\u001b[39;49m\u001b[43m(\u001b[49m\n\u001b[1;32m    874\u001b[0m \u001b[43m            \u001b[49m\u001b[43mhandle\u001b[49m\u001b[43m,\u001b[49m\n\u001b[1;32m    875\u001b[0m \u001b[43m            \u001b[49m\u001b[43mioargs\u001b[49m\u001b[38;5;241;43m.\u001b[39;49m\u001b[43mmode\u001b[49m\u001b[43m,\u001b[49m\n\u001b[1;32m    876\u001b[0m \u001b[43m            \u001b[49m\u001b[43mencoding\u001b[49m\u001b[38;5;241;43m=\u001b[39;49m\u001b[43mioargs\u001b[49m\u001b[38;5;241;43m.\u001b[39;49m\u001b[43mencoding\u001b[49m\u001b[43m,\u001b[49m\n\u001b[1;32m    877\u001b[0m \u001b[43m            \u001b[49m\u001b[43merrors\u001b[49m\u001b[38;5;241;43m=\u001b[39;49m\u001b[43merrors\u001b[49m\u001b[43m,\u001b[49m\n\u001b[1;32m    878\u001b[0m \u001b[43m            \u001b[49m\u001b[43mnewline\u001b[49m\u001b[38;5;241;43m=\u001b[39;49m\u001b[38;5;124;43m\"\u001b[39;49m\u001b[38;5;124;43m\"\u001b[39;49m\u001b[43m,\u001b[49m\n\u001b[1;32m    879\u001b[0m \u001b[43m        \u001b[49m\u001b[43m)\u001b[49m\n\u001b[1;32m    880\u001b[0m     \u001b[38;5;28;01melse\u001b[39;00m:\n\u001b[1;32m    881\u001b[0m         \u001b[38;5;66;03m# Binary mode\u001b[39;00m\n\u001b[1;32m    882\u001b[0m         handle \u001b[38;5;241m=\u001b[39m \u001b[38;5;28mopen\u001b[39m(handle, ioargs\u001b[38;5;241m.\u001b[39mmode)\n",
      "\u001b[0;31mPermissionError\u001b[0m: [Errno 13] Permission denied: '/data/analysis/data_diamant/allos/allos/data/custom_subset.gtf'"
     ]
    }
   ],
   "source": [
    "# big_gtf = \"/data/analysis/data_diamant/allos/allos/data/Mus_musculus.GRCm39.109.gtf\"\n",
    "# custom_gtf = \"/data/analysis/data_diamant/allos/allos/data/custom_subset.gtf\"\n",
    "# selected_genes = [\"ENSMUSG00000028478\", \"ENSMUSG00000025903\"]  # Replace with your genes of interest\n",
    "\n",
    "# extract_genes_from_gtf(big_gtf, custom_gtf, selected_genes)\n"
   ]
  },
  {
   "cell_type": "code",
   "execution_count": 119,
   "id": "e37725c2",
   "metadata": {},
   "outputs": [],
   "source": [
    "# from allos.transcript_data import TranscriptData\n",
    "# td = TranscriptData(gtf_file=\"/data/analysis/data_diamant/allos/allos/data/custom_subset.gtf\")"
   ]
  },
  {
   "cell_type": "code",
   "execution_count": 121,
   "id": "f1177cc1",
   "metadata": {},
   "outputs": [
    {
     "data": {
      "text/plain": [
       "<allos.transcript_data.TranscriptData at 0x7f06de7f8ce0>"
      ]
     },
     "execution_count": 121,
     "metadata": {},
     "output_type": "execute_result"
    }
   ],
   "source": [
    "# td"
   ]
  },
  {
   "cell_type": "code",
   "execution_count": 122,
   "id": "44ebde85",
   "metadata": {},
   "outputs": [
    {
     "name": "stderr",
     "output_type": "stream",
     "text": [
      "WARNING:root:No exons found for transcript ENSMUSG00000028478.\n"
     ]
    },
    {
     "data": {
      "text/plain": [
       "([], None)"
      ]
     },
     "execution_count": 122,
     "metadata": {},
     "output_type": "execute_result"
    }
   ],
   "source": [
    "# td.get_exon_coords_and_strand(\"ENSMUSG00000028478\")"
   ]
  },
  {
   "cell_type": "code",
   "execution_count": 150,
   "id": "6cb2aaa7",
   "metadata": {},
   "outputs": [],
   "source": [
    "# import pyranges as pr\n",
    "\n",
    "# def get_gene_coordinates_from_gtf(gtf_path, transcript_id):\n",
    "#     \"\"\"Extracts chromosome, start, and end coordinates of a gene from a GTF file using transcript ID.\"\"\"\n",
    "    \n",
    "#     # Load GTF file as pyranges object\n",
    "#     gtf = pr.read_gtf(gtf_path)\n",
    "    \n",
    "#     # Check available columns\n",
    "#     print(\"Available columns in GTF:\", gtf.columns)\n",
    "\n",
    "#     # Ensure the transcript ID column exists\n",
    "#     if \"transcript_id\" not in gtf.columns:\n",
    "#         raise ValueError(\"Column 'transcript_id' not found in GTF. Check column names.\")\n",
    "\n",
    "#     # Find the gene associated with the given transcript ID\n",
    "#     transcript_info = gtf[gtf.transcript_id == transcript_id]  # Use the correct column name\n",
    "\n",
    "#     if transcript_info.empty:\n",
    "#         raise ValueError(f\"Transcript '{transcript_id}' not found in GTF file.\")\n",
    "\n",
    "#     # Get gene ID associated with the transcript\n",
    "#     gene_id = transcript_info.gene_id.iloc[0]  # Ensure correct column name\n",
    "    \n",
    "#     # Extract gene coordinates\n",
    "#     gene_info = gtf[gtf.gene_id == gene_id]  # Ensure correct column name\n",
    "\n",
    "#     chromosome = gene_info.Chromosome.iloc[0]\n",
    "#     start = gene_info.Start.min()\n",
    "#     end = gene_info.End.max()\n",
    "\n",
    "#     return {\"gene_id\": gene_id, \"chromosome\": chromosome, \"start\": start, \"end\": end}\n",
    "\n",
    "\n",
    "# def find_tss_in_gene_range(cage_peaks_df, gene_coordinates):\n",
    "#     \"\"\"Finds CAGE TSS peaks that overlap with the gene coordinates.\"\"\"\n",
    "#     # Ensure chromosome formats match between gene_coordinates and cage_peaks_df\n",
    "#     gene_chr = gene_coordinates[\"chromosome\"]\n",
    "#     cage_chr = cage_peaks_df[\"chromosome\"].unique()\n",
    "\n",
    "#     # Check if gene_chr starts with \"chr\"\n",
    "#     if not gene_chr.startswith(\"chr\"):\n",
    "#         gene_coordinates[\"chromosome\"] = f\"chr{gene_chr}\"\n",
    "\n",
    "#     # Check if cage_peaks_df chromosomes start with \"chr\"\n",
    "#     if any(not c.startswith(\"chr\") for c in cage_chr):\n",
    "#         cage_peaks_df[\"chromosome\"] = cage_peaks_df[\"chromosome\"].apply(lambda x: f\"chr{x}\" if not x.startswith(\"chr\") else x)\n",
    "\n",
    "#     print(\"✅ Chromosome formats are now consistent!\")\n",
    "#     # Filter peaks that are in the same chromosome\n",
    "#     peaks_in_chromosome = cage_peaks_df[cage_peaks_df[\"chromosome\"] == gene_coordinates[\"chromosome\"]]\n",
    "\n",
    "#     # Ensure coordinates are integers\n",
    "#     gene_start = int(gene_coordinates[\"start\"])\n",
    "#     gene_end = int(gene_coordinates[\"end\"])\n",
    "\n",
    "#     peaks_in_chromosome[\"start\"] = peaks_in_chromosome[\"start\"].astype(int)\n",
    "#     peaks_in_chromosome[\"end\"] = peaks_in_chromosome[\"end\"].astype(int)\n",
    "\n",
    "#     # Filter peaks that overlap the gene range\n",
    "#     overlapping_peaks = peaks_in_chromosome[\n",
    "#         (peaks_in_chromosome[\"start\"] >= gene_coordinates[\"start\"]) &\n",
    "#         (peaks_in_chromosome[\"end\"] <= gene_coordinates[\"end\"])\n",
    "#     ]\n",
    "\n",
    "#     return overlapping_peaks"
   ]
  },
  {
   "cell_type": "code",
   "execution_count": 151,
   "id": "6b272986",
   "metadata": {},
   "outputs": [
    {
     "name": "stdout",
     "output_type": "stream",
     "text": [
      "Available columns in GTF: Index(['Chromosome', 'Source', 'Feature', 'Start', 'End', 'Score', 'Strand',\n",
      "       'Frame', 'gene_id', 'gene_version', 'gene_name', 'gene_source',\n",
      "       'gene_biotype', 'transcript_id', 'transcript_version',\n",
      "       'transcript_name', 'transcript_source', 'transcript_biotype',\n",
      "       'transcript_support_level', 'exon_number', 'exon_id', 'exon_version',\n",
      "       'protein_id', 'protein_version', 'tag', 'ccds_id'],\n",
      "      dtype='object')\n",
      "Extracted Gene Coordinates: {'gene_id': 'ENSMUSG00000025903', 'chromosome': '1', 'start': 4878010, 'end': 4918633}\n"
     ]
    }
   ],
   "source": [
    "# # Example Usage\n",
    "# gtf_path = \"/data/analysis/data_diamant/allos/allos/data/custom_subset.gtf\"\n",
    "# transcript_id = \"ENSMUST00000134384\"\n",
    "# gene_coordinates = get_gene_coordinates_from_gtf(gtf_path, \"ENSMUST00000134384\")\n",
    "# print(\"Extracted Gene Coordinates:\", gene_coordinates)"
   ]
  },
  {
   "cell_type": "code",
   "execution_count": 152,
   "id": "4eec4e3b",
   "metadata": {},
   "outputs": [
    {
     "name": "stdout",
     "output_type": "stream",
     "text": [
      "Available columns in GTF: Index(['Chromosome', 'Source', 'Feature', 'Start', 'End', 'Score', 'Strand',\n",
      "       'Frame', 'gene_id', 'gene_version', 'gene_name', 'gene_source',\n",
      "       'gene_biotype', 'transcript_id', 'transcript_version',\n",
      "       'transcript_name', 'transcript_source', 'transcript_biotype',\n",
      "       'transcript_support_level', 'exon_number', 'exon_id', 'exon_version',\n",
      "       'protein_id', 'protein_version', 'tag', 'ccds_id'],\n",
      "      dtype='object')\n"
     ]
    },
    {
     "name": "stderr",
     "output_type": "stream",
     "text": [
      "/tmp/ipykernel_3974226/2903875487.py:3: DtypeWarning: Columns (1,2,4) have mixed types. Specify dtype option on import or set low_memory=False.\n",
      "  cage_peaks_df = pd.read_csv(cage_peaks_path, sep=\"\\t\", names=[\"chromosome\", \"start\", \"end\", \"refTSS_ID\", \"score\", \"strand\"])\n"
     ]
    }
   ],
   "source": [
    "# cage_peaks_path = \"/data/analysis/data_diamant/allos/allos/data/refTSS_v4.1_mouse_coordinate.mm39.bed\"\n",
    "# # Load CAGE peaks as a dataframe\n",
    "# cage_peaks_df = pd.read_csv(cage_peaks_path, sep=\"\\t\", names=[\"chromosome\", \"start\", \"end\", \"refTSS_ID\", \"score\", \"strand\"])\n",
    "\n",
    "# # Get gene coordinates from GTF\n",
    "# gene_coordinates = get_gene_coordinates_from_gtf(gtf_path, transcript_id)\n"
   ]
  },
  {
   "cell_type": "code",
   "execution_count": 153,
   "id": "bc5a6110",
   "metadata": {},
   "outputs": [
    {
     "data": {
      "text/plain": [
       "{'gene_id': 'ENSMUSG00000025903',\n",
       " 'chromosome': '1',\n",
       " 'start': 4878010,\n",
       " 'end': 4918633}"
      ]
     },
     "execution_count": 153,
     "metadata": {},
     "output_type": "execute_result"
    }
   ],
   "source": [
    "# gene_coordinates"
   ]
  },
  {
   "cell_type": "code",
   "execution_count": 154,
   "id": "6bd30ad6",
   "metadata": {},
   "outputs": [
    {
     "name": "stdout",
     "output_type": "stream",
     "text": [
      "✅ Chromosome formats are now consistent!\n"
     ]
    },
    {
     "name": "stderr",
     "output_type": "stream",
     "text": [
      "/tmp/ipykernel_3974226/1431948614.py:57: SettingWithCopyWarning: \n",
      "A value is trying to be set on a copy of a slice from a DataFrame.\n",
      "Try using .loc[row_indexer,col_indexer] = value instead\n",
      "\n",
      "See the caveats in the documentation: https://pandas.pydata.org/pandas-docs/stable/user_guide/indexing.html#returning-a-view-versus-a-copy\n",
      "  peaks_in_chromosome[\"start\"] = peaks_in_chromosome[\"start\"].astype(int)\n",
      "/tmp/ipykernel_3974226/1431948614.py:58: SettingWithCopyWarning: \n",
      "A value is trying to be set on a copy of a slice from a DataFrame.\n",
      "Try using .loc[row_indexer,col_indexer] = value instead\n",
      "\n",
      "See the caveats in the documentation: https://pandas.pydata.org/pandas-docs/stable/user_guide/indexing.html#returning-a-view-versus-a-copy\n",
      "  peaks_in_chromosome[\"end\"] = peaks_in_chromosome[\"end\"].astype(int)\n"
     ]
    },
    {
     "data": {
      "text/html": [
       "<div>\n",
       "<style scoped>\n",
       "    .dataframe tbody tr th:only-of-type {\n",
       "        vertical-align: middle;\n",
       "    }\n",
       "\n",
       "    .dataframe tbody tr th {\n",
       "        vertical-align: top;\n",
       "    }\n",
       "\n",
       "    .dataframe thead th {\n",
       "        text-align: right;\n",
       "    }\n",
       "</style>\n",
       "<table border=\"1\" class=\"dataframe\">\n",
       "  <thead>\n",
       "    <tr style=\"text-align: right;\">\n",
       "      <th></th>\n",
       "      <th>chromosome</th>\n",
       "      <th>start</th>\n",
       "      <th>end</th>\n",
       "      <th>refTSS_ID</th>\n",
       "      <th>score</th>\n",
       "      <th>strand</th>\n",
       "    </tr>\n",
       "  </thead>\n",
       "  <tbody>\n",
       "    <tr>\n",
       "      <th>38</th>\n",
       "      <td>chr1</td>\n",
       "      <td>4878070</td>\n",
       "      <td>4878151</td>\n",
       "      <td>rfmm_38.1</td>\n",
       "      <td>1</td>\n",
       "      <td>+</td>\n",
       "    </tr>\n",
       "    <tr>\n",
       "      <th>39</th>\n",
       "      <td>chr1</td>\n",
       "      <td>4878469</td>\n",
       "      <td>4878510</td>\n",
       "      <td>rfmm_39.1</td>\n",
       "      <td>1</td>\n",
       "      <td>+</td>\n",
       "    </tr>\n",
       "    <tr>\n",
       "      <th>40</th>\n",
       "      <td>chr1</td>\n",
       "      <td>4898798</td>\n",
       "      <td>4898839</td>\n",
       "      <td>rfmm_40.1</td>\n",
       "      <td>1</td>\n",
       "      <td>+</td>\n",
       "    </tr>\n",
       "    <tr>\n",
       "      <th>41</th>\n",
       "      <td>chr1</td>\n",
       "      <td>4915816</td>\n",
       "      <td>4915827</td>\n",
       "      <td>rfmm_41.1</td>\n",
       "      <td>1</td>\n",
       "      <td>+</td>\n",
       "    </tr>\n",
       "  </tbody>\n",
       "</table>\n",
       "</div>"
      ],
      "text/plain": [
       "   chromosome    start      end  refTSS_ID score strand\n",
       "38       chr1  4878070  4878151  rfmm_38.1     1      +\n",
       "39       chr1  4878469  4878510  rfmm_39.1     1      +\n",
       "40       chr1  4898798  4898839  rfmm_40.1     1      +\n",
       "41       chr1  4915816  4915827  rfmm_41.1     1      +"
      ]
     },
     "execution_count": 154,
     "metadata": {},
     "output_type": "execute_result"
    }
   ],
   "source": [
    "# find_tss_in_gene_range(cage_peaks_df, gene_coordinates)"
   ]
  }
 ],
 "metadata": {
  "kernelspec": {
   "display_name": "Python 3",
   "language": "python",
   "name": "python3"
  },
  "language_info": {
   "codemirror_mode": {
    "name": "ipython",
    "version": 3
   },
   "file_extension": ".py",
   "mimetype": "text/x-python",
   "name": "python",
   "nbconvert_exporter": "python",
   "pygments_lexer": "ipython3",
   "version": "3.9.21"
  }
 },
 "nbformat": 4,
 "nbformat_minor": 5
}
