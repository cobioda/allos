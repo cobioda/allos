{
 "cells": [
  {
   "cell_type": "markdown",
   "metadata": {},
   "source": [
    "# allos\n",
    "\n",
    "> An Isoform resoloution single cell RNA-seq toolkit.\n",
    "\n"
   ]
  },
  {
   "cell_type": "markdown",
   "metadata": {},
   "source": [
    "![Allos_logo](resources/logo_allos.png)"
   ]
  },
  {
   "cell_type": "markdown",
   "metadata": {},
   "source": [
    "Single-cell RNA sequencing (scRNA-seq) has revolutionized our understanding of cellular diversity by allowing the study of gene expression at the individual cell level. However, traditional methods of quantification obscure the most fine-grained transcriptional layer—the individual transcripts at sequence-level resolution—in favor of gene-level binning. This strategy is useful when the sequencing read length is short, as it avoids the difficult task of transcript assembly, which is made even more challenging by the nature of single-cell data.\n",
    "\n",
    "Traditional scRNA-seq methods often rely on short-read sequencing technologies, which can limit the ability to resolve full-length transcripts and isoforms. Long-read sequencing technologies, such as those provided by Oxford Nanopore and PacBio, overcome this limitation by producing reads that span entire transcripts. This capability is crucial for accurately identifying and characterizing novel isoforms and understanding the complexity of transcriptomes in single cells. By integrating long-read sequencing with single-cell approaches, researchers can gain deeper insights into cellular heterogeneity and the functional implications of transcriptomic variations.\n",
    "\n",
    "Allos is designed to give users familiar with single-cell analysis, and indeed object-oriented programming in general, an extended toolkit wrapping around Scanpy and the wider scverse to facilitate analysis workflows of this type of data. Allos is the culmination of many smaller individualized scripts packaged together into a common framework centered on anndata objects. It also contains many recreations (of varying faithfulness to their originals*) of functions proposed by others in other libraries, languages, or contexts—we by no means intend to plagiarize these methods but only expand them to a wider audience.\n",
    "\n",
    "Allos intends to offer a full suite of modules for every step of single-cell isoform resolution data, from preprocessing, working with annotations, plotting, identifying differential features, isoform switches, and more. We hope to expand Allos with the input of our user base as the field of long-read single-cell further matures.\n"
   ]
  },
  {
   "cell_type": "markdown",
   "metadata": {},
   "source": [
    "## Install"
   ]
  },
  {
   "cell_type": "markdown",
   "metadata": {},
   "source": [
    "```sh\n",
    "pip install allos\n",
    "```"
   ]
  },
  {
   "cell_type": "markdown",
   "metadata": {},
   "source": [
    "## Basic workflow\n",
    "\n"
   ]
  },
  {
   "cell_type": "markdown",
   "metadata": {},
   "source": [
    " The first thing we need to work with Allos is data. Our goal is for Allos to handle many, if not all, types of single-cell isoform resolution data, making it platform and protocol agnostic. While it is important to consider the biases, strengths, limitations, and caveats of each approach, all methods utilize a transcript matrix from which a gene matrix can be derived. Allos also allows users to supply their own custom annotations in the form of a GTF or use a reference annotation. If a reference annotation is provided, all plotting functions will use the underlying GTF to retrieve the transcript information.\n",
    "\n",
    " To help you follow the basic workflow, we provide an easy way to download one of our test datasets. The Sicelore dataset comprises 1,121 single-cell transcriptomes from two technical replicates derived from an embryonic day 18 (E18) mouse brain, consisting of 951 cells and 190 cells. The dataset was generated using the 10x Genomics Chromium system and sequenced with both Oxford Nanopore and Illumina platforms, producing 322 million Nanopore reads and 70 million Illumina reads for the 951-cell replicate, and 32 million Nanopore reads with 43 million Illumina reads for the 190-cell replicate. The dataset captured a median of 2,427 genes and 6,047 UMIs per cell, enabling the identification of 33,002 annotated transcript isoforms and 4,388 novel isoforms. Major cell types in the dataset include radial glia, cycling radial glia, intermediate progenitors, Cajal-Retzius cells, and maturing GABAergic and glutamatergic neurons, providing a detailed resource for studying transcriptome-wide alternative splicing, isoform expression, and sequence diversity during mouse brain development."
   ]
  },
  {
   "cell_type": "code",
   "execution_count": 1,
   "metadata": {},
   "outputs": [
    {
     "name": "stdout",
     "output_type": "stream",
     "text": [
      "\n",
      "🔎 Looking for file at: /data/analysis/data_mcandrew/Allos_new/allos_env/lib/python3.9/site-packages/allos/resources/e18.mouse.clusters.csv\n",
      "✅ File found at: /data/analysis/data_mcandrew/Allos_new/allos_env/lib/python3.9/site-packages/allos/resources/e18.mouse.clusters.csv\n",
      "✅ File already exists at: /data/analysis/data_mcandrew/Allos_new/allos_env/lib/python3.9/site-packages/allos/resources/data/mouse_1.txt.gz\n",
      "\n",
      "🔄 Decompressing /data/analysis/data_mcandrew/Allos_new/allos_env/lib/python3.9/site-packages/allos/resources/data/mouse_1.txt.gz to /data/analysis/data_mcandrew/Allos_new/allos_env/lib/python3.9/site-packages/allos/resources/data/mouse_1.txt...\n",
      "✅ Decompression complete.\n",
      "Test data (mouse_1) downloaded successfully\n",
      "✅ File already exists at: /data/analysis/data_mcandrew/Allos_new/allos_env/lib/python3.9/site-packages/allos/resources/data/mouse_2.txt.gz\n",
      "\n",
      "🔄 Decompressing /data/analysis/data_mcandrew/Allos_new/allos_env/lib/python3.9/site-packages/allos/resources/data/mouse_2.txt.gz to /data/analysis/data_mcandrew/Allos_new/allos_env/lib/python3.9/site-packages/allos/resources/data/mouse_2.txt...\n",
      "✅ Decompression complete.\n",
      "Test data (mouse_2) downloaded successfully\n"
     ]
    },
    {
     "name": "stderr",
     "output_type": "stream",
     "text": [
      "/data/analysis/data_mcandrew/Allos_new/allos_env/lib/python3.9/site-packages/anndata/_core/anndata.py:1754: UserWarning: Observation names are not unique. To make them unique, call `.obs_names_make_unique`.\n",
      "  utils.warn_names_duplicates(\"obs\")\n"
     ]
    }
   ],
   "source": [
    "import allos.preprocessing as pp\n",
    "sicelore_mouse_data = pp.process_mouse_data()"
   ]
  },
  {
   "cell_type": "markdown",
   "metadata": {},
   "source": [
    "In this dataset, we observe the mouse data organized in a cell-by-transcript matrix format. This structure allows us to examine the expression levels of individual transcripts across different cells. Additionally, each transcript is associated with a specific gene, providing a hierarchical view of gene expression. This organization is crucial for understanding the relationship between transcripts and their corresponding genes."
   ]
  },
  {
   "cell_type": "code",
   "execution_count": 2,
   "metadata": {},
   "outputs": [
    {
     "data": {
      "text/plain": [
       "View of AnnData object with n_obs × n_vars = 1109 × 31986\n",
       "    obs: 'batch', 'cell_type'\n",
       "    var: 'geneId'"
      ]
     },
     "execution_count": 2,
     "metadata": {},
     "output_type": "execute_result"
    }
   ],
   "source": [
    "sicelore_mouse_data"
   ]
  },
  {
   "cell_type": "code",
   "execution_count": 5,
   "metadata": {},
   "outputs": [
    {
     "data": {
      "text/html": [
       "<style type=\"text/css\">\n",
       "</style>\n",
       "<table id=\"T_8256a\">\n",
       "  <thead>\n",
       "    <tr>\n",
       "      <th class=\"blank level0\" >&nbsp;</th>\n",
       "      <th id=\"T_8256a_level0_col0\" class=\"col_heading level0 col0\" >geneId</th>\n",
       "    </tr>\n",
       "    <tr>\n",
       "      <th class=\"index_name level0\" >transcriptId</th>\n",
       "      <th class=\"blank col0\" >&nbsp;</th>\n",
       "    </tr>\n",
       "  </thead>\n",
       "  <tbody>\n",
       "    <tr>\n",
       "      <th id=\"T_8256a_level0_row0\" class=\"row_heading level0 row0\" >ENSMUST00000156717.1</th>\n",
       "      <td id=\"T_8256a_row0_col0\" class=\"data row0 col0\" >Klc2</td>\n",
       "    </tr>\n",
       "    <tr>\n",
       "      <th id=\"T_8256a_level0_row1\" class=\"row_heading level0 row1\" >ENSMUST00000212520.1</th>\n",
       "      <td id=\"T_8256a_row1_col0\" class=\"data row1 col0\" >Capn15</td>\n",
       "    </tr>\n",
       "    <tr>\n",
       "      <th id=\"T_8256a_level0_row2\" class=\"row_heading level0 row2\" >ENSMUST00000025798.12</th>\n",
       "      <td id=\"T_8256a_row2_col0\" class=\"data row2 col0\" >Klc2</td>\n",
       "    </tr>\n",
       "    <tr>\n",
       "      <th id=\"T_8256a_level0_row3\" class=\"row_heading level0 row3\" >ENSMUST00000231280.1</th>\n",
       "      <td id=\"T_8256a_row3_col0\" class=\"data row3 col0\" >Eva1c</td>\n",
       "    </tr>\n",
       "    <tr>\n",
       "      <th id=\"T_8256a_level0_row4\" class=\"row_heading level0 row4\" >ENSMUST00000039286.4</th>\n",
       "      <td id=\"T_8256a_row4_col0\" class=\"data row4 col0\" >Atg5</td>\n",
       "    </tr>\n",
       "    <tr>\n",
       "      <th id=\"T_8256a_level0_row5\" class=\"row_heading level0 row5\" >ENSMUST00000144552.7</th>\n",
       "      <td id=\"T_8256a_row5_col0\" class=\"data row5 col0\" >Znhit3</td>\n",
       "    </tr>\n",
       "    <tr>\n",
       "      <th id=\"T_8256a_level0_row6\" class=\"row_heading level0 row6\" >ENSMUST00000112304.8</th>\n",
       "      <td id=\"T_8256a_row6_col0\" class=\"data row6 col0\" >Ppm1b</td>\n",
       "    </tr>\n",
       "    <tr>\n",
       "      <th id=\"T_8256a_level0_row7\" class=\"row_heading level0 row7\" >ENSMUST00000162041.7</th>\n",
       "      <td id=\"T_8256a_row7_col0\" class=\"data row7 col0\" >Gcc2</td>\n",
       "    </tr>\n",
       "    <tr>\n",
       "      <th id=\"T_8256a_level0_row8\" class=\"row_heading level0 row8\" >ENSMUST00000053506.6</th>\n",
       "      <td id=\"T_8256a_row8_col0\" class=\"data row8 col0\" >Bbs1</td>\n",
       "    </tr>\n",
       "    <tr>\n",
       "      <th id=\"T_8256a_level0_row9\" class=\"row_heading level0 row9\" >ENSMUST00000028207.12</th>\n",
       "      <td id=\"T_8256a_row9_col0\" class=\"data row9 col0\" >Crat</td>\n",
       "    </tr>\n",
       "  </tbody>\n",
       "</table>\n"
      ],
      "text/plain": [
       "<pandas.io.formats.style.Styler at 0x7ff6fe4172e0>"
      ]
     },
     "execution_count": 5,
     "metadata": {},
     "output_type": "execute_result"
    }
   ],
   "source": [
    "sicelore_mouse_data.var.head(10).style"
   ]
  },
  {
   "cell_type": "code",
   "execution_count": null,
   "metadata": {},
   "outputs": [],
   "source": []
  }
 ],
 "metadata": {
  "kernelspec": {
   "display_name": "python3",
   "language": "python",
   "name": "python3"
  }
 },
 "nbformat": 4,
 "nbformat_minor": 4
}
