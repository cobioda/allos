{
 "cells": [
  {
   "cell_type": "code",
   "execution_count": null,
   "metadata": {},
   "outputs": [],
   "source": [
    "#| default_exp preprocessing"
   ]
  },
  {
   "cell_type": "code",
   "execution_count": null,
   "metadata": {},
   "outputs": [],
   "source": [
    "#| export\n",
    "import scanpy as sc\n",
    "\n",
    "\n",
    "def subset_common_cells( dataset1:sc.AnnData,  # First dataset to be subsetted.\n",
    "                        dataset2:sc.AnnData   # Second dataset to compare with.\n",
    "                        ) -> sc.AnnData:  # Subset of `dataset1` containing only cells also found in `dataset2`.\n",
    "    \n",
    "    \"Subset `dataset1` to only include cells that are also present in `dataset2`.\"\n",
    "    # Find common cells by intersecting the cell identifiers of both datasets\n",
    "    common_cells = dataset1.obs_names.intersection(dataset2.obs_names)\n",
    "    \n",
    "    # Explicitly subset dataset1 to only include these common cells\n",
    "    subset_dataset1 = dataset1[common_cells, :].copy()\n",
    "    \n",
    "    return subset_dataset1"
   ]
  },
  {
   "cell_type": "code",
   "execution_count": null,
   "metadata": {},
   "outputs": [],
   "source": [
    "#| export \n",
    "\n",
    "import pandas as pd\n",
    "import anndata as ad\n",
    "\n",
    "#| export\n",
    "def transfer_obs(dataset1: ad.AnnData,  # Source AnnData object with .obs metadata to transfer.\n",
    "                 dataset2: ad.AnnData   # Target AnnData object to receive .obs metadata.\n",
    "                 ) -> ad.AnnData:       # The modified `dataset2` with .obs from `dataset1` transferred.\n",
    "    \"Transfer `.obs` metadata from `dataset1` to `dataset2` one by one, while preserving the `.var` DataFrame of `dataset2`.\"\n",
    "    \n",
    "    # Ensure dataset2's .var is preserved without altering its contents\n",
    "    var_dataset2 = dataset2.var.copy()\n",
    "    \n",
    "    # Clear current .obs in dataset2 to ensure it only contains metadata from dataset1\n",
    "    dataset2.obs = pd.DataFrame(index=dataset2.obs.index)\n",
    "    \n",
    "    # Loop through each column in dataset1.obs and transfer it to dataset2.obs\n",
    "    for column_name in dataset1.obs.columns:\n",
    "        # Transfer each column individually\n",
    "        dataset2.obs[column_name] = dataset1.obs[column_name].copy()\n",
    "\n",
    "    # Reapply the saved .var to dataset2 to ensure it's preserved\n",
    "    dataset2.var = var_dataset2\n",
    "\n",
    "    return dataset2"
   ]
  },
  {
   "cell_type": "code",
   "execution_count": null,
   "metadata": {},
   "outputs": [],
   "source": [
    "#| hide\n",
    "from nbdev.showdoc import *"
   ]
  },
  {
   "cell_type": "code",
   "execution_count": null,
   "metadata": {},
   "outputs": [],
   "source": [
    "import nbdev; nbdev.nbdev_export()"
   ]
  }
 ],
 "metadata": {
  "language_info": {
   "name": "python"
  }
 },
 "nbformat": 4,
 "nbformat_minor": 2
}
