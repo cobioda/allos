{
 "cells": [
  {
   "cell_type": "markdown",
   "id": "9ed0729a",
   "metadata": {},
   "source": [
    "# IsoAdata  \n",
    "> This module centers around the **IsoAdata** class, an extension of the AnnData object, specifically designed to handle isoform-resolution single-cell data. It provides specialized methods to efficiently manage and analyze data from various protocols that generate such data, facilitating seamless integration and manipulation within the Allos framework.  \n",
    "\n",
    "As the landscape of single-cell RNA sequencing evolves, IsoAdata offers a robust and adaptable structure that can be extended to meet specific research needs. While it serves as a comprehensive foundation, we encourage the community to contribute by enhancing its capabilities and developing additional functionalities tailored to unique analytical requirements. This collaborative effort aims to build a dynamic ecosystem where users can leverage shared innovations and protocol-specific enhancements.  \n",
    "\n",
    "The primary objective is to empower researchers to work effortlessly with isoform-level single-cell RNA sequencing data in Allos, ensuring compatibility and efficiency across diverse datasets while benefiting from community-driven advancements.\n"
   ]
  },
  {
   "cell_type": "code",
   "execution_count": null,
   "id": "3b5b495c",
   "metadata": {},
   "outputs": [],
   "source": [
    "#| default_exp anndata_iso"
   ]
  },
  {
   "cell_type": "code",
   "execution_count": null,
   "id": "45769df0af317008",
   "metadata": {},
   "outputs": [],
   "source": [
    "#| hide\n",
    "from nbdev.showdoc import *"
   ]
  },
  {
   "cell_type": "code",
   "execution_count": null,
   "id": "initial_id",
   "metadata": {},
   "outputs": [],
   "source": [
    "#| export\n",
    "import numpy as np\n",
    "import pandas as pd\n",
    "import anndata as ad"
   ]
  },
  {
   "cell_type": "code",
   "execution_count": null,
   "id": "ac16319e",
   "metadata": {},
   "outputs": [],
   "source": [
    "from allos.readers_tests import *\n",
    "from allos.preprocessing import subset_common_cells, transfer_obs"
   ]
  },
  {
   "cell_type": "code",
   "execution_count": null,
   "id": "d487932c",
   "metadata": {},
   "outputs": [
    {
     "name": "stdout",
     "output_type": "stream",
     "text": [
      "Starting download of test data from https://ftp.ncbi.nlm.nih.gov/geo/samples/GSM3748nnn/GSM3748087/suppl/GSM3748087%5F190c.isoforms.matrix.txt.gz\n",
      "File downloaded successfully\n",
      "File extracted successfully\n",
      "Test data downloaded successfully\n",
      "Starting download of test data from https://ftp.ncbi.nlm.nih.gov/geo/samples/GSM3748nnn/GSM3748089/suppl/GSM3748089%5F951c.isoforms.matrix.txt.gz\n",
      "File downloaded successfully\n",
      "File extracted successfully\n",
      "Test data downloaded successfully\n"
     ]
    },
    {
     "name": "stderr",
     "output_type": "stream",
     "text": [
      "/data/analysis/data_mcandrew/Allos_new/allos_env/lib/python3.9/site-packages/anndata/_core/anndata.py:1754: UserWarning: Observation names are not unique. To make them unique, call `.obs_names_make_unique`.\n",
      "  utils.warn_names_duplicates(\"obs\")\n"
     ]
    }
   ],
   "source": [
    "combined_mouse_data = process_mouse_data()"
   ]
  },
  {
   "cell_type": "code",
   "execution_count": null,
   "id": "fb78b5a3",
   "metadata": {},
   "outputs": [
    {
     "data": {
      "text/plain": [
       "Index(['CCACCTACAAAGTCAA', 'AACCATGAGACCACGA', 'GATGAGGTCGACCAGC',\n",
       "       'GCACTCTTCTATCGCC', 'TGCCCTAAGGCCCGTT', 'TTCGGTCAGCTGGAAC',\n",
       "       'GGATTACAGACGCAAC', 'GTCTCGTTCCTCTAGC', 'CCATGTCAGTAGATGT',\n",
       "       'GATCGATGTCAAACTC',\n",
       "       ...\n",
       "       'GCTCCTACATCGACGC', 'AGCGTCGCATTATCTC', 'ATCCACCTCCCACTTG',\n",
       "       'GTGCTTCCAAGGCTCC', 'GACTACATCATTGCGA', 'TACTCATTCGCCATAA',\n",
       "       'CGTGAGCTCTCTAAGG', 'TTATGCTAGTAAGTAC', 'CGGACACTCTTGTCAT',\n",
       "       'GGCTCGAGTACCGAGA'],\n",
       "      dtype='object', length=1109)"
      ]
     },
     "execution_count": null,
     "metadata": {},
     "output_type": "execute_result"
    }
   ],
   "source": [
    "combined_mouse_data.obs.index"
   ]
  },
  {
   "cell_type": "code",
   "execution_count": null,
   "id": "e3172da399225d50",
   "metadata": {},
   "outputs": [],
   "source": [
    "# | export\n",
    "class AnnDataIso(ad.AnnData):\n",
    "    # Private method to filter dataset for genes with multiple isoforms.\n",
    "    def _filter_isodata(self):\n",
    "        \"\"\"\n",
    "        Filters the data to include only genes with multiple isoforms.\n",
    "\n",
    "        Logic:\n",
    "        - Counts the number of isoforms for each gene using `np.unique`.\n",
    "        - Creates a DataFrame with gene IDs and their isoform counts.\n",
    "        - Identifies genes with more than one isoform.\n",
    "        - Subsets the AnnData object to include only these genes.\n",
    "\n",
    "        Returns:\n",
    "        - Filtered AnnData object with only genes having multiple isoforms.\n",
    "        \"\"\"\n",
    "        genes, frequencies = np.unique(self.var['geneId'], return_counts=True)\n",
    "        df = pd.DataFrame({\"geneId\": genes, \"frequencies\": frequencies})\n",
    "        multi_iso_genes = df[df[\"frequencies\"] > 1]['geneId'].tolist()\n",
    "        filtr_adata_iso = self[:, self.var['geneId'].isin(multi_iso_genes)]\n",
    "        return filtr_adata_iso\n",
    "\n",
    "    # Method to compute isoform expression percentages relative to total gene expression.\n",
    "    def iso_percent(self, df, barcodes_regex=\"^[ACGT]+$\"):\n",
    "        \"\"\"\n",
    "        Calculates isoform expression percentages for each barcode.\n",
    "\n",
    "        Parameters:\n",
    "        - df (DataFrame): Input DataFrame containing isoform expression data.\n",
    "        - barcodes_regex (str): Regex to identify columns representing barcodes.\n",
    "\n",
    "        Returns:\n",
    "        - DataFrame with normalized isoform percentages for each barcode.\n",
    "        \"\"\"\n",
    "        iso_perc_df = df.__deepcopy__()\n",
    "        if len(iso_perc_df.filter(regex=(barcodes_regex)).columns.to_list()) < 1:\n",
    "            raise ValueError(\"No barcode was identified. Please check the names of the columns.\")\n",
    "        # Normalize isoform counts by gene-level expression.\n",
    "        iso_perc_df[iso_perc_df.filter(regex=(barcodes_regex)).columns.to_list()] = (\n",
    "            iso_perc_df.filter(regex=(barcodes_regex)) /\n",
    "            iso_perc_df.groupby(['geneId']).transform('sum').filter(regex=(barcodes_regex))\n",
    "        )\n",
    "        # Replace NaN values with 0.\n",
    "        iso_perc_df = iso_perc_df.replace(np.nan, 0.0)\n",
    "        return iso_perc_df\n",
    "\n",
    "    # Class initializer to process the AnnData object and compute relevant annotations.\n",
    "    def __init__(self, anndata: ad.AnnData, palette='ghibli'):\n",
    "        \"\"\"\n",
    "        Initializes the AnnDataIso object with isoform and gene-level annotations.\n",
    "\n",
    "        Parameters:\n",
    "        - anndata (AnnData): Input AnnData object containing isoform-level data.\n",
    "        - cell_types (DataFrame): DataFrame with cell type annotations.\n",
    "        \"\"\"\n",
    "        self._init_as_actual(anndata.copy())\n",
    "        # Group genes and count the number of isoforms.\n",
    "        self.gene_counts = self.var.reset_index().groupby(by='geneId').count()\n",
    "        # Filter dataset for genes with multiple isoforms.\n",
    "        self._filtered_anndata = self._filter_isodata()\n",
    "        # Annotate cell types in the observation data.\n",
    "        # Compute isoform percentages.\n",
    "        df = self._filtered_anndata.to_df().set_index(self._filtered_anndata.obs['barcodes'])\n",
    "        df = df.transpose()\n",
    "        df[['transcriptId', 'geneId']] = self._filtered_anndata.var\n",
    "        df_m_iso = self.iso_percent(df)\n",
    "        df_m_iso = df_m_iso.iloc[0:, :-2].transpose()\n",
    "        self._filtered_anndata.obsm['Iso_prct'] = df_m_iso\n",
    "        self.colors = ['#6c6246', '#387041', '#153c27', '#393525', '#b19c77', '#175934', '#d0e7f3', '#466175', '#8c8c5a', '#47462c', '#8c414e', '#579f4e', '#7cb282', '#30363a', '#672c37', '#e5c6ad', '#402b2f', '#b0606e', '#c1e5d8', '#829ea7']\n",
    "        if palette != 'ghibli':\n",
    "            self.colors = ['#100856', '#7243ee', '#da2ad3', '#3a58a4', '#2d149e', '#7f0d9a', '#3b0554', '#7a97f4', '#a127b4', '#696e43', '#de62e2', '#4e1af5', '#88904e', '#2d2c18', '#576d5c', '#4a4f20', '#909cfa', '#929574', '#c905ca', '#71a493']\n"
   ]
  },
  {
   "cell_type": "code",
   "execution_count": null,
   "id": "9503916f",
   "metadata": {},
   "outputs": [],
   "source": [
    "#| hide\n",
    "from nbdev.showdoc import *"
   ]
  },
  {
   "cell_type": "code",
   "execution_count": null,
   "id": "82bd6254",
   "metadata": {},
   "outputs": [],
   "source": [
    "#| hide\n",
    "import nbdev; nbdev.nbdev_export()"
   ]
  }
 ],
 "metadata": {
  "kernelspec": {
   "display_name": "python3",
   "language": "python",
   "name": "python3"
  }
 },
 "nbformat": 4,
 "nbformat_minor": 5
}
