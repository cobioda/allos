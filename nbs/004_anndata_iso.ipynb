{
 "cells": [
  {
   "cell_type": "code",
   "execution_count": null,
   "id": "45769df0af317008",
   "metadata": {},
   "outputs": [],
   "source": [
    "#| hide\n",
    "from nbdev.showdoc import *"
   ]
  },
  {
   "cell_type": "code",
   "execution_count": null,
   "id": "d9a9b0b87b80683b",
   "metadata": {},
   "outputs": [],
   "source": [
    "#| default_exp anndata_iso"
   ]
  },
  {
   "cell_type": "code",
   "execution_count": null,
   "id": "initial_id",
   "metadata": {},
   "outputs": [],
   "source": [
    "#| export\n",
    "import numpy as np\n",
    "import pandas as pd\n",
    "import anndata as ad"
   ]
  },
  {
   "cell_type": "code",
   "execution_count": null,
   "id": "ac16319e",
   "metadata": {},
   "outputs": [],
   "source": [
    "from allos.readers_tests import *\n",
    "from allos.preprocessing import subset_common_cells, transfer_obs"
   ]
  },
  {
   "cell_type": "code",
   "execution_count": null,
   "id": "d487932c",
   "metadata": {},
   "outputs": [
    {
     "name": "stdout",
     "output_type": "stream",
     "text": [
      "Starting download of test data from https://ftp.ncbi.nlm.nih.gov/geo/samples/GSM3748nnn/GSM3748087/suppl/GSM3748087%5F190c.isoforms.matrix.txt.gz\n",
      "File downloaded successfully\n",
      "File extracted successfully\n",
      "Test data downloaded successfully\n",
      "Starting download of test data from https://ftp.ncbi.nlm.nih.gov/geo/samples/GSM3748nnn/GSM3748089/suppl/GSM3748089%5F951c.isoforms.matrix.txt.gz\n",
      "File downloaded successfully\n",
      "File extracted successfully\n",
      "Test data downloaded successfully\n"
     ]
    },
    {
     "name": "stderr",
     "output_type": "stream",
     "text": [
      "/data/analysis/data_mcandrew/Allos_new/allos_env/lib/python3.9/site-packages/anndata/_core/anndata.py:1754: UserWarning: Observation names are not unique. To make them unique, call `.obs_names_make_unique`.\n",
      "  utils.warn_names_duplicates(\"obs\")\n"
     ]
    }
   ],
   "source": [
    "from allos.readers_tests import *\n",
    "\n",
    "df = pd.read_csv('e18.mouse.clusters.csv')\n",
    "df['barcode'] = df.index.str.split('_').str[1]\n",
    "\n",
    "\n",
    "mouse_data_str_1 = download_test_data(output_filename='mouse_1.txt')\n",
    "print(\"Test data downloaded successfully\")\n",
    "\n",
    "\n",
    "mouse_data_str_2 = download_test_data(\"https://ftp.ncbi.nlm.nih.gov/geo/samples/GSM3748nnn/GSM3748089/suppl/GSM3748089%5F951c.isoforms.matrix.txt.gz\", output_filename='mouse_2.txt')\n",
    "print(\"Test data downloaded successfully\")\n",
    "\n",
    "\n",
    "mouse_1 = read_sicelore_isomatrix(file_path=mouse_data_str_1)\n",
    "mouse_2 = read_sicelore_isomatrix(file_path=mouse_data_str_2)\n",
    "\n",
    "combined_mouse_data = iso_concat([mouse_1, mouse_2], batch_type='numeric')\n",
    "\n",
    "\n",
    "combined_mouse_data.obs_names_make_unique()\n",
    "# Step 1: Remove any duplicate barcodes in the DataFrame\n",
    "df_unique = df.drop_duplicates(subset='barcode')\n",
    "\n",
    "# Step 2: Filter the DataFrame to include only the barcodes present in the AnnData object\n",
    "df_filtered = df_unique[df_unique['barcode'].isin(combined_mouse_data.obs_names)]\n",
    "\n",
    "# Step 3: Set the index of the filtered DataFrame to 'barcode' to make the merge easier\n",
    "df_filtered.set_index('barcode', inplace=True)\n",
    "\n",
    "# Step 4: Create a DataFrame from the obs DataFrame of the AnnData object to ensure the same index\n",
    "obs_df = combined_mouse_data.obs.copy()\n",
    "\n",
    "# Step 5: Initialize a new column 'cell_type' with NaN values in the obs DataFrame\n",
    "obs_df['cell_type'] = pd.NA\n",
    "\n",
    "# Step 6: Update the 'cell_type' column with values from the filtered DataFrame where indices match\n",
    "obs_df.update(df_filtered['illumina.ident'].rename('cell_type'))\n",
    "\n",
    "# Step 7: Ensure the index is unique and assign the updated DataFrame back to the obs attribute of the AnnData object\n",
    "if obs_df.index.is_unique:\n",
    "    combined_mouse_data.obs = obs_df\n",
    "else:\n",
    "    raise ValueError(\"The index of the obs DataFrame is not unique.\")\n",
    "\n",
    "# Now, the 'cell_type' column should be added to the obs DataFrame of your AnnData object\n",
    "combined_mouse_data = combined_mouse_data[~combined_mouse_data.obs['cell_type'].isna()]"
   ]
  },
  {
   "cell_type": "code",
   "execution_count": null,
   "id": "fb78b5a3",
   "metadata": {},
   "outputs": [
    {
     "data": {
      "text/plain": [
       "Index(['CCACCTACAAAGTCAA', 'AACCATGAGACCACGA', 'GATGAGGTCGACCAGC',\n",
       "       'GCACTCTTCTATCGCC', 'TGCCCTAAGGCCCGTT', 'TTCGGTCAGCTGGAAC',\n",
       "       'GGATTACAGACGCAAC', 'GTCTCGTTCCTCTAGC', 'CCATGTCAGTAGATGT',\n",
       "       'GATCGATGTCAAACTC',\n",
       "       ...\n",
       "       'GCTCCTACATCGACGC', 'AGCGTCGCATTATCTC', 'ATCCACCTCCCACTTG',\n",
       "       'GTGCTTCCAAGGCTCC', 'GACTACATCATTGCGA', 'TACTCATTCGCCATAA',\n",
       "       'CGTGAGCTCTCTAAGG', 'TTATGCTAGTAAGTAC', 'CGGACACTCTTGTCAT',\n",
       "       'GGCTCGAGTACCGAGA'],\n",
       "      dtype='object', length=1109)"
      ]
     },
     "execution_count": null,
     "metadata": {},
     "output_type": "execute_result"
    }
   ],
   "source": [
    "combined_mouse_data.obs.index"
   ]
  },
  {
   "cell_type": "code",
   "execution_count": null,
   "id": "e3172da399225d50",
   "metadata": {},
   "outputs": [],
   "source": [
    "# | export\n",
    "class AnnDataIso(ad.AnnData):\n",
    "    # Private method to filter dataset for genes with multiple isoforms.\n",
    "    def _filter_isodata(self):\n",
    "        \"\"\"\n",
    "        Filters the data to include only genes with multiple isoforms.\n",
    "\n",
    "        Logic:\n",
    "        - Counts the number of isoforms for each gene using `np.unique`.\n",
    "        - Creates a DataFrame with gene IDs and their isoform counts.\n",
    "        - Identifies genes with more than one isoform.\n",
    "        - Subsets the AnnData object to include only these genes.\n",
    "\n",
    "        Returns:\n",
    "        - Filtered AnnData object with only genes having multiple isoforms.\n",
    "        \"\"\"\n",
    "        genes, frequencies = np.unique(self.var['geneId'], return_counts=True)\n",
    "        df = pd.DataFrame({\"geneId\": genes, \"frequencies\": frequencies})\n",
    "        multi_iso_genes = df[df[\"frequencies\"] > 1]['geneId'].tolist()\n",
    "        filtr_adata_iso = self[:, self.var['geneId'].isin(multi_iso_genes)]\n",
    "        return filtr_adata_iso\n",
    "\n",
    "    # Method to compute isoform expression percentages relative to total gene expression.\n",
    "    def iso_percent(self, df, barcodes_regex=\"^[ACGT]+$\"):\n",
    "        \"\"\"\n",
    "        Calculates isoform expression percentages for each barcode.\n",
    "\n",
    "        Parameters:\n",
    "        - df (DataFrame): Input DataFrame containing isoform expression data.\n",
    "        - barcodes_regex (str): Regex to identify columns representing barcodes.\n",
    "\n",
    "        Returns:\n",
    "        - DataFrame with normalized isoform percentages for each barcode.\n",
    "        \"\"\"\n",
    "        iso_perc_df = df.__deepcopy__()\n",
    "        if len(iso_perc_df.filter(regex=(barcodes_regex)).columns.to_list()) < 1:\n",
    "            raise ValueError(\"No barcode was identified. Please check the names of the columns.\")\n",
    "        # Normalize isoform counts by gene-level expression.\n",
    "        iso_perc_df[iso_perc_df.filter(regex=(barcodes_regex)).columns.to_list()] = (\n",
    "            iso_perc_df.filter(regex=(barcodes_regex)) /\n",
    "            iso_perc_df.groupby(['geneId']).transform('sum').filter(regex=(barcodes_regex))\n",
    "        )\n",
    "        # Replace NaN values with 0.\n",
    "        iso_perc_df = iso_perc_df.replace(np.nan, 0.0)\n",
    "        return iso_perc_df\n",
    "\n",
    "    # Class initializer to process the AnnData object and compute relevant annotations.\n",
    "    def __init__(self, anndata: ad.AnnData, palette='ghibli'):\n",
    "        \"\"\"\n",
    "        Initializes the AnnDataIso object with isoform and gene-level annotations.\n",
    "\n",
    "        Parameters:\n",
    "        - anndata (AnnData): Input AnnData object containing isoform-level data.\n",
    "        - cell_types (DataFrame): DataFrame with cell type annotations.\n",
    "        \"\"\"\n",
    "        self._init_as_actual(anndata.copy())\n",
    "        # Group genes and count the number of isoforms.\n",
    "        self.gene_counts = self.var.reset_index().groupby(by='geneId').count()\n",
    "        # Filter dataset for genes with multiple isoforms.\n",
    "        self._filtered_anndata = self._filter_isodata()\n",
    "        # Annotate cell types in the observation data.\n",
    "        # Compute isoform percentages.\n",
    "        df = self._filtered_anndata.to_df().set_index(self._filtered_anndata.obs['barcodes'])\n",
    "        df = df.transpose()\n",
    "        df[['transcriptId', 'geneId']] = self._filtered_anndata.var\n",
    "        df_m_iso = self.iso_percent(df)\n",
    "        df_m_iso = df_m_iso.iloc[0:, :-2].transpose()\n",
    "        self._filtered_anndata.obsm['Iso_prct'] = df_m_iso\n",
    "        self.colors = ['#6c6246', '#387041', '#153c27', '#393525', '#b19c77', '#175934', '#d0e7f3', '#466175', '#8c8c5a', '#47462c', '#8c414e', '#579f4e', '#7cb282', '#30363a', '#672c37', '#e5c6ad', '#402b2f', '#b0606e', '#c1e5d8', '#829ea7']\n",
    "        if palette != 'ghibli':\n",
    "            self.colors = ['#100856', '#7243ee', '#da2ad3', '#3a58a4', '#2d149e', '#7f0d9a', '#3b0554', '#7a97f4', '#a127b4', '#696e43', '#de62e2', '#4e1af5', '#88904e', '#2d2c18', '#576d5c', '#4a4f20', '#909cfa', '#929574', '#c905ca', '#71a493']\n"
   ]
  },
  {
   "cell_type": "code",
   "execution_count": null,
   "id": "9503916f",
   "metadata": {},
   "outputs": [],
   "source": [
    "#| hide\n",
    "from nbdev.showdoc import *"
   ]
  },
  {
   "cell_type": "code",
   "execution_count": null,
   "id": "82bd6254",
   "metadata": {},
   "outputs": [],
   "source": [
    "#| hide\n",
    "import nbdev; nbdev.nbdev_export()"
   ]
  }
 ],
 "metadata": {
  "kernelspec": {
   "display_name": "python3",
   "language": "python",
   "name": "python3"
  }
 },
 "nbformat": 4,
 "nbformat_minor": 5
}
